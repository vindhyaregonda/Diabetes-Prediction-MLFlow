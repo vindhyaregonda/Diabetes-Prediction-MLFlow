{
  "nbformat": 4,
  "nbformat_minor": 0,
  "metadata": {
    "colab": {
      "provenance": [],
      "toc_visible": true
    },
    "kernelspec": {
      "name": "python3",
      "display_name": "Python 3"
    },
    "language_info": {
      "name": "python"
    },
    "widgets": {
      "application/vnd.jupyter.widget-state+json": {
        "25b1cead9a4c4e8e9dde11b4779ebb04": {
          "model_module": "@jupyter-widgets/controls",
          "model_name": "HBoxModel",
          "model_module_version": "1.5.0",
          "state": {
            "_dom_classes": [],
            "_model_module": "@jupyter-widgets/controls",
            "_model_module_version": "1.5.0",
            "_model_name": "HBoxModel",
            "_view_count": null,
            "_view_module": "@jupyter-widgets/controls",
            "_view_module_version": "1.5.0",
            "_view_name": "HBoxView",
            "box_style": "",
            "children": [
              "IPY_MODEL_5be088440a804d07985f8cb7884165e7",
              "IPY_MODEL_11785edc6d9d44b5b46caa39fc847ae7",
              "IPY_MODEL_1a4c911a79eb4f5d8fe455f2ed22dac8"
            ],
            "layout": "IPY_MODEL_ad9f8c82e5f9449cbbd2d6ff8b0f3fb0"
          }
        },
        "5be088440a804d07985f8cb7884165e7": {
          "model_module": "@jupyter-widgets/controls",
          "model_name": "HTMLModel",
          "model_module_version": "1.5.0",
          "state": {
            "_dom_classes": [],
            "_model_module": "@jupyter-widgets/controls",
            "_model_module_version": "1.5.0",
            "_model_name": "HTMLModel",
            "_view_count": null,
            "_view_module": "@jupyter-widgets/controls",
            "_view_module_version": "1.5.0",
            "_view_name": "HTMLView",
            "description": "",
            "description_tooltip": null,
            "layout": "IPY_MODEL_ec16dda3c3df4c309f65f3070ff55c72",
            "placeholder": "​",
            "style": "IPY_MODEL_cb67d28cc47044788033f3571abc6897",
            "value": "Done! Use &#x27;show&#x27; commands to display/save.   "
          }
        },
        "11785edc6d9d44b5b46caa39fc847ae7": {
          "model_module": "@jupyter-widgets/controls",
          "model_name": "FloatProgressModel",
          "model_module_version": "1.5.0",
          "state": {
            "_dom_classes": [],
            "_model_module": "@jupyter-widgets/controls",
            "_model_module_version": "1.5.0",
            "_model_name": "FloatProgressModel",
            "_view_count": null,
            "_view_module": "@jupyter-widgets/controls",
            "_view_module_version": "1.5.0",
            "_view_name": "ProgressView",
            "bar_style": "success",
            "description": "",
            "description_tooltip": null,
            "layout": "IPY_MODEL_1651445a87464ef3a6655a43873c608b",
            "max": 1,
            "min": 0,
            "orientation": "horizontal",
            "style": "IPY_MODEL_b0196a1f9a8044c7a2044bba32c3430e",
            "value": 1
          }
        },
        "1a4c911a79eb4f5d8fe455f2ed22dac8": {
          "model_module": "@jupyter-widgets/controls",
          "model_name": "HTMLModel",
          "model_module_version": "1.5.0",
          "state": {
            "_dom_classes": [],
            "_model_module": "@jupyter-widgets/controls",
            "_model_module_version": "1.5.0",
            "_model_name": "HTMLModel",
            "_view_count": null,
            "_view_module": "@jupyter-widgets/controls",
            "_view_module_version": "1.5.0",
            "_view_name": "HTMLView",
            "description": "",
            "description_tooltip": null,
            "layout": "IPY_MODEL_fdd6b0e60152434d811301ecd8e3c28b",
            "placeholder": "​",
            "style": "IPY_MODEL_5ed096410d194c2a9a8a05491ccbc0eb",
            "value": " [100%]   00:01 -&gt; (00:00 left)"
          }
        },
        "ad9f8c82e5f9449cbbd2d6ff8b0f3fb0": {
          "model_module": "@jupyter-widgets/base",
          "model_name": "LayoutModel",
          "model_module_version": "1.2.0",
          "state": {
            "_model_module": "@jupyter-widgets/base",
            "_model_module_version": "1.2.0",
            "_model_name": "LayoutModel",
            "_view_count": null,
            "_view_module": "@jupyter-widgets/base",
            "_view_module_version": "1.2.0",
            "_view_name": "LayoutView",
            "align_content": null,
            "align_items": null,
            "align_self": null,
            "border": null,
            "bottom": null,
            "display": "inline-flex",
            "flex": null,
            "flex_flow": "row wrap",
            "grid_area": null,
            "grid_auto_columns": null,
            "grid_auto_flow": null,
            "grid_auto_rows": null,
            "grid_column": null,
            "grid_gap": null,
            "grid_row": null,
            "grid_template_areas": null,
            "grid_template_columns": null,
            "grid_template_rows": null,
            "height": null,
            "justify_content": null,
            "justify_items": null,
            "left": null,
            "margin": null,
            "max_height": null,
            "max_width": null,
            "min_height": null,
            "min_width": null,
            "object_fit": null,
            "object_position": null,
            "order": null,
            "overflow": null,
            "overflow_x": null,
            "overflow_y": null,
            "padding": null,
            "right": null,
            "top": null,
            "visibility": null,
            "width": "100%"
          }
        },
        "ec16dda3c3df4c309f65f3070ff55c72": {
          "model_module": "@jupyter-widgets/base",
          "model_name": "LayoutModel",
          "model_module_version": "1.2.0",
          "state": {
            "_model_module": "@jupyter-widgets/base",
            "_model_module_version": "1.2.0",
            "_model_name": "LayoutModel",
            "_view_count": null,
            "_view_module": "@jupyter-widgets/base",
            "_view_module_version": "1.2.0",
            "_view_name": "LayoutView",
            "align_content": null,
            "align_items": null,
            "align_self": null,
            "border": null,
            "bottom": null,
            "display": null,
            "flex": null,
            "flex_flow": null,
            "grid_area": null,
            "grid_auto_columns": null,
            "grid_auto_flow": null,
            "grid_auto_rows": null,
            "grid_column": null,
            "grid_gap": null,
            "grid_row": null,
            "grid_template_areas": null,
            "grid_template_columns": null,
            "grid_template_rows": null,
            "height": null,
            "justify_content": null,
            "justify_items": null,
            "left": null,
            "margin": null,
            "max_height": null,
            "max_width": null,
            "min_height": null,
            "min_width": null,
            "object_fit": null,
            "object_position": null,
            "order": null,
            "overflow": null,
            "overflow_x": null,
            "overflow_y": null,
            "padding": null,
            "right": null,
            "top": null,
            "visibility": null,
            "width": null
          }
        },
        "cb67d28cc47044788033f3571abc6897": {
          "model_module": "@jupyter-widgets/controls",
          "model_name": "DescriptionStyleModel",
          "model_module_version": "1.5.0",
          "state": {
            "_model_module": "@jupyter-widgets/controls",
            "_model_module_version": "1.5.0",
            "_model_name": "DescriptionStyleModel",
            "_view_count": null,
            "_view_module": "@jupyter-widgets/base",
            "_view_module_version": "1.2.0",
            "_view_name": "StyleView",
            "description_width": ""
          }
        },
        "1651445a87464ef3a6655a43873c608b": {
          "model_module": "@jupyter-widgets/base",
          "model_name": "LayoutModel",
          "model_module_version": "1.2.0",
          "state": {
            "_model_module": "@jupyter-widgets/base",
            "_model_module_version": "1.2.0",
            "_model_name": "LayoutModel",
            "_view_count": null,
            "_view_module": "@jupyter-widgets/base",
            "_view_module_version": "1.2.0",
            "_view_name": "LayoutView",
            "align_content": null,
            "align_items": null,
            "align_self": null,
            "border": null,
            "bottom": null,
            "display": null,
            "flex": "2",
            "flex_flow": null,
            "grid_area": null,
            "grid_auto_columns": null,
            "grid_auto_flow": null,
            "grid_auto_rows": null,
            "grid_column": null,
            "grid_gap": null,
            "grid_row": null,
            "grid_template_areas": null,
            "grid_template_columns": null,
            "grid_template_rows": null,
            "height": null,
            "justify_content": null,
            "justify_items": null,
            "left": null,
            "margin": null,
            "max_height": null,
            "max_width": null,
            "min_height": null,
            "min_width": null,
            "object_fit": null,
            "object_position": null,
            "order": null,
            "overflow": null,
            "overflow_x": null,
            "overflow_y": null,
            "padding": null,
            "right": null,
            "top": null,
            "visibility": null,
            "width": null
          }
        },
        "b0196a1f9a8044c7a2044bba32c3430e": {
          "model_module": "@jupyter-widgets/controls",
          "model_name": "ProgressStyleModel",
          "model_module_version": "1.5.0",
          "state": {
            "_model_module": "@jupyter-widgets/controls",
            "_model_module_version": "1.5.0",
            "_model_name": "ProgressStyleModel",
            "_view_count": null,
            "_view_module": "@jupyter-widgets/base",
            "_view_module_version": "1.2.0",
            "_view_name": "StyleView",
            "bar_color": null,
            "description_width": ""
          }
        },
        "fdd6b0e60152434d811301ecd8e3c28b": {
          "model_module": "@jupyter-widgets/base",
          "model_name": "LayoutModel",
          "model_module_version": "1.2.0",
          "state": {
            "_model_module": "@jupyter-widgets/base",
            "_model_module_version": "1.2.0",
            "_model_name": "LayoutModel",
            "_view_count": null,
            "_view_module": "@jupyter-widgets/base",
            "_view_module_version": "1.2.0",
            "_view_name": "LayoutView",
            "align_content": null,
            "align_items": null,
            "align_self": null,
            "border": null,
            "bottom": null,
            "display": null,
            "flex": null,
            "flex_flow": null,
            "grid_area": null,
            "grid_auto_columns": null,
            "grid_auto_flow": null,
            "grid_auto_rows": null,
            "grid_column": null,
            "grid_gap": null,
            "grid_row": null,
            "grid_template_areas": null,
            "grid_template_columns": null,
            "grid_template_rows": null,
            "height": null,
            "justify_content": null,
            "justify_items": null,
            "left": null,
            "margin": null,
            "max_height": null,
            "max_width": null,
            "min_height": null,
            "min_width": null,
            "object_fit": null,
            "object_position": null,
            "order": null,
            "overflow": null,
            "overflow_x": null,
            "overflow_y": null,
            "padding": null,
            "right": null,
            "top": null,
            "visibility": null,
            "width": null
          }
        },
        "5ed096410d194c2a9a8a05491ccbc0eb": {
          "model_module": "@jupyter-widgets/controls",
          "model_name": "DescriptionStyleModel",
          "model_module_version": "1.5.0",
          "state": {
            "_model_module": "@jupyter-widgets/controls",
            "_model_module_version": "1.5.0",
            "_model_name": "DescriptionStyleModel",
            "_view_count": null,
            "_view_module": "@jupyter-widgets/base",
            "_view_module_version": "1.2.0",
            "_view_name": "StyleView",
            "description_width": ""
          }
        }
      }
    }
  },
  "cells": [
    {
      "cell_type": "markdown",
      "source": [
        "# Import Libraries"
      ],
      "metadata": {
        "id": "W_kl2k8_yp8V"
      }
    },
    {
      "cell_type": "code",
      "execution_count": 114,
      "metadata": {
        "id": "fsxh66rv-QF7",
        "colab": {
          "base_uri": "https://localhost:8080/"
        },
        "outputId": "b7654d0f-243c-4f15-ce7f-7369128c9256"
      },
      "outputs": [
        {
          "output_type": "execute_result",
          "data": {
            "text/plain": [
              "<Experiment: artifact_location='file:///content/mlruns/617158520734800970', creation_time=1722060309768, experiment_id='617158520734800970', last_update_time=1722060309768, lifecycle_stage='active', name='diabetes_classification_model', tags={}>"
            ]
          },
          "metadata": {},
          "execution_count": 114
        }
      ],
      "source": [
        "# Import libraries\n",
        "\n",
        "import pandas as pd\n",
        "import numpy as np\n",
        "import seaborn as sns\n",
        "import matplotlib.pyplot as plt\n",
        "import scipy.stats as stats\n",
        "from sklearn.preprocessing import LabelEncoder, StandardScaler\n",
        "from sklearn.linear_model import LogisticRegression\n",
        "from sklearn.ensemble import RandomForestClassifier,GradientBoostingClassifier, VotingClassifier\n",
        "from sklearn.neighbors import KNeighborsClassifier\n",
        "from xgboost import XGBClassifier\n",
        "from sklearn import svm\n",
        "from sklearn.linear_model import LogisticRegression\n",
        "from sklearn.model_selection import train_test_split\n",
        "from sklearn.metrics import accuracy_score, confusion_matrix, recall_score, f1_score\n",
        "from pyngrok import ngrok\n",
        "import mlflow\n",
        "import mlflow.sklearn\n",
        "import os\n",
        "import h2o\n",
        "from h2o.automl import H2OAutoML\n",
        "\n",
        "\n",
        "# Set the experiment name for MLflow\n",
        "mlflow.set_experiment('diabetes_classification_model')"
      ]
    },
    {
      "cell_type": "markdown",
      "source": [
        "# Load Dataset"
      ],
      "metadata": {
        "id": "g38UZmtBIcNK"
      }
    },
    {
      "cell_type": "code",
      "source": [
        "# Load the dataset\n",
        "data = pd.read_csv('diabetes_dataset.csv')\n",
        "print(data.info())\n",
        "print(data.describe())\n",
        "data.head()"
      ],
      "metadata": {
        "colab": {
          "base_uri": "https://localhost:8080/",
          "height": 1000
        },
        "id": "paAowRNvK6gw",
        "outputId": "943c818b-4186-4986-875f-8ffc4e658235",
        "collapsed": true
      },
      "execution_count": 115,
      "outputs": [
        {
          "output_type": "stream",
          "name": "stdout",
          "text": [
            "<class 'pandas.core.frame.DataFrame'>\n",
            "RangeIndex: 100000 entries, 0 to 99999\n",
            "Data columns (total 16 columns):\n",
            " #   Column                Non-Null Count   Dtype  \n",
            "---  ------                --------------   -----  \n",
            " 0   year                  100000 non-null  int64  \n",
            " 1   gender                100000 non-null  object \n",
            " 2   age                   100000 non-null  float64\n",
            " 3   location              100000 non-null  object \n",
            " 4   race:AfricanAmerican  100000 non-null  int64  \n",
            " 5   race:Asian            100000 non-null  int64  \n",
            " 6   race:Caucasian        100000 non-null  int64  \n",
            " 7   race:Hispanic         100000 non-null  int64  \n",
            " 8   race:Other            100000 non-null  int64  \n",
            " 9   hypertension          100000 non-null  int64  \n",
            " 10  heart_disease         100000 non-null  int64  \n",
            " 11  smoking_history       100000 non-null  object \n",
            " 12  bmi                   100000 non-null  float64\n",
            " 13  hbA1c_level           100000 non-null  float64\n",
            " 14  blood_glucose_level   100000 non-null  int64  \n",
            " 15  diabetes              100000 non-null  int64  \n",
            "dtypes: float64(3), int64(10), object(3)\n",
            "memory usage: 12.2+ MB\n",
            "None\n",
            "                year            age  race:AfricanAmerican     race:Asian  \\\n",
            "count  100000.000000  100000.000000         100000.000000  100000.000000   \n",
            "mean     2018.360820      41.885856              0.202230       0.200150   \n",
            "std         1.345239      22.516840              0.401665       0.400114   \n",
            "min      2015.000000       0.080000              0.000000       0.000000   \n",
            "25%      2019.000000      24.000000              0.000000       0.000000   \n",
            "50%      2019.000000      43.000000              0.000000       0.000000   \n",
            "75%      2019.000000      60.000000              0.000000       0.000000   \n",
            "max      2022.000000      80.000000              1.000000       1.000000   \n",
            "\n",
            "       race:Caucasian  race:Hispanic     race:Other  hypertension  \\\n",
            "count   100000.000000   100000.00000  100000.000000  100000.00000   \n",
            "mean         0.198760        0.19888       0.199980       0.07485   \n",
            "std          0.399069        0.39916       0.399987       0.26315   \n",
            "min          0.000000        0.00000       0.000000       0.00000   \n",
            "25%          0.000000        0.00000       0.000000       0.00000   \n",
            "50%          0.000000        0.00000       0.000000       0.00000   \n",
            "75%          0.000000        0.00000       0.000000       0.00000   \n",
            "max          1.000000        1.00000       1.000000       1.00000   \n",
            "\n",
            "       heart_disease            bmi    hbA1c_level  blood_glucose_level  \\\n",
            "count  100000.000000  100000.000000  100000.000000        100000.000000   \n",
            "mean        0.039420      27.320767       5.527507           138.058060   \n",
            "std         0.194593       6.636783       1.070672            40.708136   \n",
            "min         0.000000      10.010000       3.500000            80.000000   \n",
            "25%         0.000000      23.630000       4.800000           100.000000   \n",
            "50%         0.000000      27.320000       5.800000           140.000000   \n",
            "75%         0.000000      29.580000       6.200000           159.000000   \n",
            "max         1.000000      95.690000       9.000000           300.000000   \n",
            "\n",
            "            diabetes  \n",
            "count  100000.000000  \n",
            "mean        0.085000  \n",
            "std         0.278883  \n",
            "min         0.000000  \n",
            "25%         0.000000  \n",
            "50%         0.000000  \n",
            "75%         0.000000  \n",
            "max         1.000000  \n"
          ]
        },
        {
          "output_type": "execute_result",
          "data": {
            "text/plain": [
              "   year  gender   age location  race:AfricanAmerican  race:Asian  \\\n",
              "0  2020  Female  32.0  Alabama                     0           0   \n",
              "1  2015  Female  29.0  Alabama                     0           1   \n",
              "2  2015    Male  18.0  Alabama                     0           0   \n",
              "3  2015    Male  41.0  Alabama                     0           0   \n",
              "4  2016  Female  52.0  Alabama                     1           0   \n",
              "\n",
              "   race:Caucasian  race:Hispanic  race:Other  hypertension  heart_disease  \\\n",
              "0               0              0           1             0              0   \n",
              "1               0              0           0             0              0   \n",
              "2               0              0           1             0              0   \n",
              "3               1              0           0             0              0   \n",
              "4               0              0           0             0              0   \n",
              "\n",
              "  smoking_history    bmi  hbA1c_level  blood_glucose_level  diabetes  \n",
              "0           never  27.32          5.0                  100         0  \n",
              "1           never  19.95          5.0                   90         0  \n",
              "2           never  23.76          4.8                  160         0  \n",
              "3           never  27.32          4.0                  159         0  \n",
              "4           never  23.75          6.5                   90         0  "
            ],
            "text/html": [
              "\n",
              "  <div id=\"df-13afdfbc-2586-4e66-9b9c-bd7d1e39dcca\" class=\"colab-df-container\">\n",
              "    <div>\n",
              "<style scoped>\n",
              "    .dataframe tbody tr th:only-of-type {\n",
              "        vertical-align: middle;\n",
              "    }\n",
              "\n",
              "    .dataframe tbody tr th {\n",
              "        vertical-align: top;\n",
              "    }\n",
              "\n",
              "    .dataframe thead th {\n",
              "        text-align: right;\n",
              "    }\n",
              "</style>\n",
              "<table border=\"1\" class=\"dataframe\">\n",
              "  <thead>\n",
              "    <tr style=\"text-align: right;\">\n",
              "      <th></th>\n",
              "      <th>year</th>\n",
              "      <th>gender</th>\n",
              "      <th>age</th>\n",
              "      <th>location</th>\n",
              "      <th>race:AfricanAmerican</th>\n",
              "      <th>race:Asian</th>\n",
              "      <th>race:Caucasian</th>\n",
              "      <th>race:Hispanic</th>\n",
              "      <th>race:Other</th>\n",
              "      <th>hypertension</th>\n",
              "      <th>heart_disease</th>\n",
              "      <th>smoking_history</th>\n",
              "      <th>bmi</th>\n",
              "      <th>hbA1c_level</th>\n",
              "      <th>blood_glucose_level</th>\n",
              "      <th>diabetes</th>\n",
              "    </tr>\n",
              "  </thead>\n",
              "  <tbody>\n",
              "    <tr>\n",
              "      <th>0</th>\n",
              "      <td>2020</td>\n",
              "      <td>Female</td>\n",
              "      <td>32.0</td>\n",
              "      <td>Alabama</td>\n",
              "      <td>0</td>\n",
              "      <td>0</td>\n",
              "      <td>0</td>\n",
              "      <td>0</td>\n",
              "      <td>1</td>\n",
              "      <td>0</td>\n",
              "      <td>0</td>\n",
              "      <td>never</td>\n",
              "      <td>27.32</td>\n",
              "      <td>5.0</td>\n",
              "      <td>100</td>\n",
              "      <td>0</td>\n",
              "    </tr>\n",
              "    <tr>\n",
              "      <th>1</th>\n",
              "      <td>2015</td>\n",
              "      <td>Female</td>\n",
              "      <td>29.0</td>\n",
              "      <td>Alabama</td>\n",
              "      <td>0</td>\n",
              "      <td>1</td>\n",
              "      <td>0</td>\n",
              "      <td>0</td>\n",
              "      <td>0</td>\n",
              "      <td>0</td>\n",
              "      <td>0</td>\n",
              "      <td>never</td>\n",
              "      <td>19.95</td>\n",
              "      <td>5.0</td>\n",
              "      <td>90</td>\n",
              "      <td>0</td>\n",
              "    </tr>\n",
              "    <tr>\n",
              "      <th>2</th>\n",
              "      <td>2015</td>\n",
              "      <td>Male</td>\n",
              "      <td>18.0</td>\n",
              "      <td>Alabama</td>\n",
              "      <td>0</td>\n",
              "      <td>0</td>\n",
              "      <td>0</td>\n",
              "      <td>0</td>\n",
              "      <td>1</td>\n",
              "      <td>0</td>\n",
              "      <td>0</td>\n",
              "      <td>never</td>\n",
              "      <td>23.76</td>\n",
              "      <td>4.8</td>\n",
              "      <td>160</td>\n",
              "      <td>0</td>\n",
              "    </tr>\n",
              "    <tr>\n",
              "      <th>3</th>\n",
              "      <td>2015</td>\n",
              "      <td>Male</td>\n",
              "      <td>41.0</td>\n",
              "      <td>Alabama</td>\n",
              "      <td>0</td>\n",
              "      <td>0</td>\n",
              "      <td>1</td>\n",
              "      <td>0</td>\n",
              "      <td>0</td>\n",
              "      <td>0</td>\n",
              "      <td>0</td>\n",
              "      <td>never</td>\n",
              "      <td>27.32</td>\n",
              "      <td>4.0</td>\n",
              "      <td>159</td>\n",
              "      <td>0</td>\n",
              "    </tr>\n",
              "    <tr>\n",
              "      <th>4</th>\n",
              "      <td>2016</td>\n",
              "      <td>Female</td>\n",
              "      <td>52.0</td>\n",
              "      <td>Alabama</td>\n",
              "      <td>1</td>\n",
              "      <td>0</td>\n",
              "      <td>0</td>\n",
              "      <td>0</td>\n",
              "      <td>0</td>\n",
              "      <td>0</td>\n",
              "      <td>0</td>\n",
              "      <td>never</td>\n",
              "      <td>23.75</td>\n",
              "      <td>6.5</td>\n",
              "      <td>90</td>\n",
              "      <td>0</td>\n",
              "    </tr>\n",
              "  </tbody>\n",
              "</table>\n",
              "</div>\n",
              "    <div class=\"colab-df-buttons\">\n",
              "\n",
              "  <div class=\"colab-df-container\">\n",
              "    <button class=\"colab-df-convert\" onclick=\"convertToInteractive('df-13afdfbc-2586-4e66-9b9c-bd7d1e39dcca')\"\n",
              "            title=\"Convert this dataframe to an interactive table.\"\n",
              "            style=\"display:none;\">\n",
              "\n",
              "  <svg xmlns=\"http://www.w3.org/2000/svg\" height=\"24px\" viewBox=\"0 -960 960 960\">\n",
              "    <path d=\"M120-120v-720h720v720H120Zm60-500h600v-160H180v160Zm220 220h160v-160H400v160Zm0 220h160v-160H400v160ZM180-400h160v-160H180v160Zm440 0h160v-160H620v160ZM180-180h160v-160H180v160Zm440 0h160v-160H620v160Z\"/>\n",
              "  </svg>\n",
              "    </button>\n",
              "\n",
              "  <style>\n",
              "    .colab-df-container {\n",
              "      display:flex;\n",
              "      gap: 12px;\n",
              "    }\n",
              "\n",
              "    .colab-df-convert {\n",
              "      background-color: #E8F0FE;\n",
              "      border: none;\n",
              "      border-radius: 50%;\n",
              "      cursor: pointer;\n",
              "      display: none;\n",
              "      fill: #1967D2;\n",
              "      height: 32px;\n",
              "      padding: 0 0 0 0;\n",
              "      width: 32px;\n",
              "    }\n",
              "\n",
              "    .colab-df-convert:hover {\n",
              "      background-color: #E2EBFA;\n",
              "      box-shadow: 0px 1px 2px rgba(60, 64, 67, 0.3), 0px 1px 3px 1px rgba(60, 64, 67, 0.15);\n",
              "      fill: #174EA6;\n",
              "    }\n",
              "\n",
              "    .colab-df-buttons div {\n",
              "      margin-bottom: 4px;\n",
              "    }\n",
              "\n",
              "    [theme=dark] .colab-df-convert {\n",
              "      background-color: #3B4455;\n",
              "      fill: #D2E3FC;\n",
              "    }\n",
              "\n",
              "    [theme=dark] .colab-df-convert:hover {\n",
              "      background-color: #434B5C;\n",
              "      box-shadow: 0px 1px 3px 1px rgba(0, 0, 0, 0.15);\n",
              "      filter: drop-shadow(0px 1px 2px rgba(0, 0, 0, 0.3));\n",
              "      fill: #FFFFFF;\n",
              "    }\n",
              "  </style>\n",
              "\n",
              "    <script>\n",
              "      const buttonEl =\n",
              "        document.querySelector('#df-13afdfbc-2586-4e66-9b9c-bd7d1e39dcca button.colab-df-convert');\n",
              "      buttonEl.style.display =\n",
              "        google.colab.kernel.accessAllowed ? 'block' : 'none';\n",
              "\n",
              "      async function convertToInteractive(key) {\n",
              "        const element = document.querySelector('#df-13afdfbc-2586-4e66-9b9c-bd7d1e39dcca');\n",
              "        const dataTable =\n",
              "          await google.colab.kernel.invokeFunction('convertToInteractive',\n",
              "                                                    [key], {});\n",
              "        if (!dataTable) return;\n",
              "\n",
              "        const docLinkHtml = 'Like what you see? Visit the ' +\n",
              "          '<a target=\"_blank\" href=https://colab.research.google.com/notebooks/data_table.ipynb>data table notebook</a>'\n",
              "          + ' to learn more about interactive tables.';\n",
              "        element.innerHTML = '';\n",
              "        dataTable['output_type'] = 'display_data';\n",
              "        await google.colab.output.renderOutput(dataTable, element);\n",
              "        const docLink = document.createElement('div');\n",
              "        docLink.innerHTML = docLinkHtml;\n",
              "        element.appendChild(docLink);\n",
              "      }\n",
              "    </script>\n",
              "  </div>\n",
              "\n",
              "\n",
              "<div id=\"df-34fde41a-2046-4493-a2a9-5e00e6b01aa7\">\n",
              "  <button class=\"colab-df-quickchart\" onclick=\"quickchart('df-34fde41a-2046-4493-a2a9-5e00e6b01aa7')\"\n",
              "            title=\"Suggest charts\"\n",
              "            style=\"display:none;\">\n",
              "\n",
              "<svg xmlns=\"http://www.w3.org/2000/svg\" height=\"24px\"viewBox=\"0 0 24 24\"\n",
              "     width=\"24px\">\n",
              "    <g>\n",
              "        <path d=\"M19 3H5c-1.1 0-2 .9-2 2v14c0 1.1.9 2 2 2h14c1.1 0 2-.9 2-2V5c0-1.1-.9-2-2-2zM9 17H7v-7h2v7zm4 0h-2V7h2v10zm4 0h-2v-4h2v4z\"/>\n",
              "    </g>\n",
              "</svg>\n",
              "  </button>\n",
              "\n",
              "<style>\n",
              "  .colab-df-quickchart {\n",
              "      --bg-color: #E8F0FE;\n",
              "      --fill-color: #1967D2;\n",
              "      --hover-bg-color: #E2EBFA;\n",
              "      --hover-fill-color: #174EA6;\n",
              "      --disabled-fill-color: #AAA;\n",
              "      --disabled-bg-color: #DDD;\n",
              "  }\n",
              "\n",
              "  [theme=dark] .colab-df-quickchart {\n",
              "      --bg-color: #3B4455;\n",
              "      --fill-color: #D2E3FC;\n",
              "      --hover-bg-color: #434B5C;\n",
              "      --hover-fill-color: #FFFFFF;\n",
              "      --disabled-bg-color: #3B4455;\n",
              "      --disabled-fill-color: #666;\n",
              "  }\n",
              "\n",
              "  .colab-df-quickchart {\n",
              "    background-color: var(--bg-color);\n",
              "    border: none;\n",
              "    border-radius: 50%;\n",
              "    cursor: pointer;\n",
              "    display: none;\n",
              "    fill: var(--fill-color);\n",
              "    height: 32px;\n",
              "    padding: 0;\n",
              "    width: 32px;\n",
              "  }\n",
              "\n",
              "  .colab-df-quickchart:hover {\n",
              "    background-color: var(--hover-bg-color);\n",
              "    box-shadow: 0 1px 2px rgba(60, 64, 67, 0.3), 0 1px 3px 1px rgba(60, 64, 67, 0.15);\n",
              "    fill: var(--button-hover-fill-color);\n",
              "  }\n",
              "\n",
              "  .colab-df-quickchart-complete:disabled,\n",
              "  .colab-df-quickchart-complete:disabled:hover {\n",
              "    background-color: var(--disabled-bg-color);\n",
              "    fill: var(--disabled-fill-color);\n",
              "    box-shadow: none;\n",
              "  }\n",
              "\n",
              "  .colab-df-spinner {\n",
              "    border: 2px solid var(--fill-color);\n",
              "    border-color: transparent;\n",
              "    border-bottom-color: var(--fill-color);\n",
              "    animation:\n",
              "      spin 1s steps(1) infinite;\n",
              "  }\n",
              "\n",
              "  @keyframes spin {\n",
              "    0% {\n",
              "      border-color: transparent;\n",
              "      border-bottom-color: var(--fill-color);\n",
              "      border-left-color: var(--fill-color);\n",
              "    }\n",
              "    20% {\n",
              "      border-color: transparent;\n",
              "      border-left-color: var(--fill-color);\n",
              "      border-top-color: var(--fill-color);\n",
              "    }\n",
              "    30% {\n",
              "      border-color: transparent;\n",
              "      border-left-color: var(--fill-color);\n",
              "      border-top-color: var(--fill-color);\n",
              "      border-right-color: var(--fill-color);\n",
              "    }\n",
              "    40% {\n",
              "      border-color: transparent;\n",
              "      border-right-color: var(--fill-color);\n",
              "      border-top-color: var(--fill-color);\n",
              "    }\n",
              "    60% {\n",
              "      border-color: transparent;\n",
              "      border-right-color: var(--fill-color);\n",
              "    }\n",
              "    80% {\n",
              "      border-color: transparent;\n",
              "      border-right-color: var(--fill-color);\n",
              "      border-bottom-color: var(--fill-color);\n",
              "    }\n",
              "    90% {\n",
              "      border-color: transparent;\n",
              "      border-bottom-color: var(--fill-color);\n",
              "    }\n",
              "  }\n",
              "</style>\n",
              "\n",
              "  <script>\n",
              "    async function quickchart(key) {\n",
              "      const quickchartButtonEl =\n",
              "        document.querySelector('#' + key + ' button');\n",
              "      quickchartButtonEl.disabled = true;  // To prevent multiple clicks.\n",
              "      quickchartButtonEl.classList.add('colab-df-spinner');\n",
              "      try {\n",
              "        const charts = await google.colab.kernel.invokeFunction(\n",
              "            'suggestCharts', [key], {});\n",
              "      } catch (error) {\n",
              "        console.error('Error during call to suggestCharts:', error);\n",
              "      }\n",
              "      quickchartButtonEl.classList.remove('colab-df-spinner');\n",
              "      quickchartButtonEl.classList.add('colab-df-quickchart-complete');\n",
              "    }\n",
              "    (() => {\n",
              "      let quickchartButtonEl =\n",
              "        document.querySelector('#df-34fde41a-2046-4493-a2a9-5e00e6b01aa7 button');\n",
              "      quickchartButtonEl.style.display =\n",
              "        google.colab.kernel.accessAllowed ? 'block' : 'none';\n",
              "    })();\n",
              "  </script>\n",
              "</div>\n",
              "\n",
              "    </div>\n",
              "  </div>\n"
            ],
            "application/vnd.google.colaboratory.intrinsic+json": {
              "type": "dataframe",
              "variable_name": "data",
              "summary": "{\n  \"name\": \"data\",\n  \"rows\": 100000,\n  \"fields\": [\n    {\n      \"column\": \"year\",\n      \"properties\": {\n        \"dtype\": \"number\",\n        \"std\": 1,\n        \"min\": 2015,\n        \"max\": 2022,\n        \"num_unique_values\": 7,\n        \"samples\": [\n          2020,\n          2015,\n          2021\n        ],\n        \"semantic_type\": \"\",\n        \"description\": \"\"\n      }\n    },\n    {\n      \"column\": \"gender\",\n      \"properties\": {\n        \"dtype\": \"category\",\n        \"num_unique_values\": 3,\n        \"samples\": [\n          \"Female\",\n          \"Male\",\n          \"Other\"\n        ],\n        \"semantic_type\": \"\",\n        \"description\": \"\"\n      }\n    },\n    {\n      \"column\": \"age\",\n      \"properties\": {\n        \"dtype\": \"number\",\n        \"std\": 22.51683987161702,\n        \"min\": 0.08,\n        \"max\": 80.0,\n        \"num_unique_values\": 102,\n        \"samples\": [\n          67.0,\n          20.0,\n          30.0\n        ],\n        \"semantic_type\": \"\",\n        \"description\": \"\"\n      }\n    },\n    {\n      \"column\": \"location\",\n      \"properties\": {\n        \"dtype\": \"category\",\n        \"num_unique_values\": 55,\n        \"samples\": [\n          \"New Jersey\",\n          \"Colorado\",\n          \"New Mexico\"\n        ],\n        \"semantic_type\": \"\",\n        \"description\": \"\"\n      }\n    },\n    {\n      \"column\": \"race:AfricanAmerican\",\n      \"properties\": {\n        \"dtype\": \"number\",\n        \"std\": 0,\n        \"min\": 0,\n        \"max\": 1,\n        \"num_unique_values\": 2,\n        \"samples\": [\n          1,\n          0\n        ],\n        \"semantic_type\": \"\",\n        \"description\": \"\"\n      }\n    },\n    {\n      \"column\": \"race:Asian\",\n      \"properties\": {\n        \"dtype\": \"number\",\n        \"std\": 0,\n        \"min\": 0,\n        \"max\": 1,\n        \"num_unique_values\": 2,\n        \"samples\": [\n          1,\n          0\n        ],\n        \"semantic_type\": \"\",\n        \"description\": \"\"\n      }\n    },\n    {\n      \"column\": \"race:Caucasian\",\n      \"properties\": {\n        \"dtype\": \"number\",\n        \"std\": 0,\n        \"min\": 0,\n        \"max\": 1,\n        \"num_unique_values\": 2,\n        \"samples\": [\n          1,\n          0\n        ],\n        \"semantic_type\": \"\",\n        \"description\": \"\"\n      }\n    },\n    {\n      \"column\": \"race:Hispanic\",\n      \"properties\": {\n        \"dtype\": \"number\",\n        \"std\": 0,\n        \"min\": 0,\n        \"max\": 1,\n        \"num_unique_values\": 2,\n        \"samples\": [\n          1,\n          0\n        ],\n        \"semantic_type\": \"\",\n        \"description\": \"\"\n      }\n    },\n    {\n      \"column\": \"race:Other\",\n      \"properties\": {\n        \"dtype\": \"number\",\n        \"std\": 0,\n        \"min\": 0,\n        \"max\": 1,\n        \"num_unique_values\": 2,\n        \"samples\": [\n          0,\n          1\n        ],\n        \"semantic_type\": \"\",\n        \"description\": \"\"\n      }\n    },\n    {\n      \"column\": \"hypertension\",\n      \"properties\": {\n        \"dtype\": \"number\",\n        \"std\": 0,\n        \"min\": 0,\n        \"max\": 1,\n        \"num_unique_values\": 2,\n        \"samples\": [\n          1,\n          0\n        ],\n        \"semantic_type\": \"\",\n        \"description\": \"\"\n      }\n    },\n    {\n      \"column\": \"heart_disease\",\n      \"properties\": {\n        \"dtype\": \"number\",\n        \"std\": 0,\n        \"min\": 0,\n        \"max\": 1,\n        \"num_unique_values\": 2,\n        \"samples\": [\n          1,\n          0\n        ],\n        \"semantic_type\": \"\",\n        \"description\": \"\"\n      }\n    },\n    {\n      \"column\": \"smoking_history\",\n      \"properties\": {\n        \"dtype\": \"category\",\n        \"num_unique_values\": 6,\n        \"samples\": [\n          \"never\",\n          \"not current\"\n        ],\n        \"semantic_type\": \"\",\n        \"description\": \"\"\n      }\n    },\n    {\n      \"column\": \"bmi\",\n      \"properties\": {\n        \"dtype\": \"number\",\n        \"std\": 6.636783416648368,\n        \"min\": 10.01,\n        \"max\": 95.69,\n        \"num_unique_values\": 4247,\n        \"samples\": [\n          50.94,\n          23.99\n        ],\n        \"semantic_type\": \"\",\n        \"description\": \"\"\n      }\n    },\n    {\n      \"column\": \"hbA1c_level\",\n      \"properties\": {\n        \"dtype\": \"number\",\n        \"std\": 1.0706720918835437,\n        \"min\": 3.5,\n        \"max\": 9.0,\n        \"num_unique_values\": 18,\n        \"samples\": [\n          5.0,\n          4.8\n        ],\n        \"semantic_type\": \"\",\n        \"description\": \"\"\n      }\n    },\n    {\n      \"column\": \"blood_glucose_level\",\n      \"properties\": {\n        \"dtype\": \"number\",\n        \"std\": 40,\n        \"min\": 80,\n        \"max\": 300,\n        \"num_unique_values\": 18,\n        \"samples\": [\n          100,\n          90\n        ],\n        \"semantic_type\": \"\",\n        \"description\": \"\"\n      }\n    },\n    {\n      \"column\": \"diabetes\",\n      \"properties\": {\n        \"dtype\": \"number\",\n        \"std\": 0,\n        \"min\": 0,\n        \"max\": 1,\n        \"num_unique_values\": 2,\n        \"samples\": [\n          1,\n          0\n        ],\n        \"semantic_type\": \"\",\n        \"description\": \"\"\n      }\n    }\n  ]\n}"
            }
          },
          "metadata": {},
          "execution_count": 115
        }
      ]
    },
    {
      "cell_type": "markdown",
      "source": [
        "# EDA"
      ],
      "metadata": {
        "id": "EK0n3bQjIkIQ"
      }
    },
    {
      "cell_type": "code",
      "source": [
        "# Convert the 'year' column to datetime format\n",
        "data['year'] = pd.to_datetime(data['year'])\n",
        "data['year'] = data['year'].dt.strftime('%Y')\n",
        "data.info()\n",
        "data.describe()"
      ],
      "metadata": {
        "colab": {
          "base_uri": "https://localhost:8080/",
          "height": 720
        },
        "id": "KLDr3S5zVohs",
        "outputId": "f055b074-1b85-4518-ebad-03c768970c51",
        "collapsed": true
      },
      "execution_count": 116,
      "outputs": [
        {
          "output_type": "stream",
          "name": "stdout",
          "text": [
            "<class 'pandas.core.frame.DataFrame'>\n",
            "RangeIndex: 100000 entries, 0 to 99999\n",
            "Data columns (total 16 columns):\n",
            " #   Column                Non-Null Count   Dtype  \n",
            "---  ------                --------------   -----  \n",
            " 0   year                  100000 non-null  object \n",
            " 1   gender                100000 non-null  object \n",
            " 2   age                   100000 non-null  float64\n",
            " 3   location              100000 non-null  object \n",
            " 4   race:AfricanAmerican  100000 non-null  int64  \n",
            " 5   race:Asian            100000 non-null  int64  \n",
            " 6   race:Caucasian        100000 non-null  int64  \n",
            " 7   race:Hispanic         100000 non-null  int64  \n",
            " 8   race:Other            100000 non-null  int64  \n",
            " 9   hypertension          100000 non-null  int64  \n",
            " 10  heart_disease         100000 non-null  int64  \n",
            " 11  smoking_history       100000 non-null  object \n",
            " 12  bmi                   100000 non-null  float64\n",
            " 13  hbA1c_level           100000 non-null  float64\n",
            " 14  blood_glucose_level   100000 non-null  int64  \n",
            " 15  diabetes              100000 non-null  int64  \n",
            "dtypes: float64(3), int64(9), object(4)\n",
            "memory usage: 12.2+ MB\n"
          ]
        },
        {
          "output_type": "execute_result",
          "data": {
            "text/plain": [
              "                 age  race:AfricanAmerican     race:Asian  race:Caucasian  \\\n",
              "count  100000.000000         100000.000000  100000.000000   100000.000000   \n",
              "mean       41.885856              0.202230       0.200150        0.198760   \n",
              "std        22.516840              0.401665       0.400114        0.399069   \n",
              "min         0.080000              0.000000       0.000000        0.000000   \n",
              "25%        24.000000              0.000000       0.000000        0.000000   \n",
              "50%        43.000000              0.000000       0.000000        0.000000   \n",
              "75%        60.000000              0.000000       0.000000        0.000000   \n",
              "max        80.000000              1.000000       1.000000        1.000000   \n",
              "\n",
              "       race:Hispanic     race:Other  hypertension  heart_disease  \\\n",
              "count   100000.00000  100000.000000  100000.00000  100000.000000   \n",
              "mean         0.19888       0.199980       0.07485       0.039420   \n",
              "std          0.39916       0.399987       0.26315       0.194593   \n",
              "min          0.00000       0.000000       0.00000       0.000000   \n",
              "25%          0.00000       0.000000       0.00000       0.000000   \n",
              "50%          0.00000       0.000000       0.00000       0.000000   \n",
              "75%          0.00000       0.000000       0.00000       0.000000   \n",
              "max          1.00000       1.000000       1.00000       1.000000   \n",
              "\n",
              "                 bmi    hbA1c_level  blood_glucose_level       diabetes  \n",
              "count  100000.000000  100000.000000        100000.000000  100000.000000  \n",
              "mean       27.320767       5.527507           138.058060       0.085000  \n",
              "std         6.636783       1.070672            40.708136       0.278883  \n",
              "min        10.010000       3.500000            80.000000       0.000000  \n",
              "25%        23.630000       4.800000           100.000000       0.000000  \n",
              "50%        27.320000       5.800000           140.000000       0.000000  \n",
              "75%        29.580000       6.200000           159.000000       0.000000  \n",
              "max        95.690000       9.000000           300.000000       1.000000  "
            ],
            "text/html": [
              "\n",
              "  <div id=\"df-08007cf0-5b1c-423f-94c0-2a5c59b5ed76\" class=\"colab-df-container\">\n",
              "    <div>\n",
              "<style scoped>\n",
              "    .dataframe tbody tr th:only-of-type {\n",
              "        vertical-align: middle;\n",
              "    }\n",
              "\n",
              "    .dataframe tbody tr th {\n",
              "        vertical-align: top;\n",
              "    }\n",
              "\n",
              "    .dataframe thead th {\n",
              "        text-align: right;\n",
              "    }\n",
              "</style>\n",
              "<table border=\"1\" class=\"dataframe\">\n",
              "  <thead>\n",
              "    <tr style=\"text-align: right;\">\n",
              "      <th></th>\n",
              "      <th>age</th>\n",
              "      <th>race:AfricanAmerican</th>\n",
              "      <th>race:Asian</th>\n",
              "      <th>race:Caucasian</th>\n",
              "      <th>race:Hispanic</th>\n",
              "      <th>race:Other</th>\n",
              "      <th>hypertension</th>\n",
              "      <th>heart_disease</th>\n",
              "      <th>bmi</th>\n",
              "      <th>hbA1c_level</th>\n",
              "      <th>blood_glucose_level</th>\n",
              "      <th>diabetes</th>\n",
              "    </tr>\n",
              "  </thead>\n",
              "  <tbody>\n",
              "    <tr>\n",
              "      <th>count</th>\n",
              "      <td>100000.000000</td>\n",
              "      <td>100000.000000</td>\n",
              "      <td>100000.000000</td>\n",
              "      <td>100000.000000</td>\n",
              "      <td>100000.00000</td>\n",
              "      <td>100000.000000</td>\n",
              "      <td>100000.00000</td>\n",
              "      <td>100000.000000</td>\n",
              "      <td>100000.000000</td>\n",
              "      <td>100000.000000</td>\n",
              "      <td>100000.000000</td>\n",
              "      <td>100000.000000</td>\n",
              "    </tr>\n",
              "    <tr>\n",
              "      <th>mean</th>\n",
              "      <td>41.885856</td>\n",
              "      <td>0.202230</td>\n",
              "      <td>0.200150</td>\n",
              "      <td>0.198760</td>\n",
              "      <td>0.19888</td>\n",
              "      <td>0.199980</td>\n",
              "      <td>0.07485</td>\n",
              "      <td>0.039420</td>\n",
              "      <td>27.320767</td>\n",
              "      <td>5.527507</td>\n",
              "      <td>138.058060</td>\n",
              "      <td>0.085000</td>\n",
              "    </tr>\n",
              "    <tr>\n",
              "      <th>std</th>\n",
              "      <td>22.516840</td>\n",
              "      <td>0.401665</td>\n",
              "      <td>0.400114</td>\n",
              "      <td>0.399069</td>\n",
              "      <td>0.39916</td>\n",
              "      <td>0.399987</td>\n",
              "      <td>0.26315</td>\n",
              "      <td>0.194593</td>\n",
              "      <td>6.636783</td>\n",
              "      <td>1.070672</td>\n",
              "      <td>40.708136</td>\n",
              "      <td>0.278883</td>\n",
              "    </tr>\n",
              "    <tr>\n",
              "      <th>min</th>\n",
              "      <td>0.080000</td>\n",
              "      <td>0.000000</td>\n",
              "      <td>0.000000</td>\n",
              "      <td>0.000000</td>\n",
              "      <td>0.00000</td>\n",
              "      <td>0.000000</td>\n",
              "      <td>0.00000</td>\n",
              "      <td>0.000000</td>\n",
              "      <td>10.010000</td>\n",
              "      <td>3.500000</td>\n",
              "      <td>80.000000</td>\n",
              "      <td>0.000000</td>\n",
              "    </tr>\n",
              "    <tr>\n",
              "      <th>25%</th>\n",
              "      <td>24.000000</td>\n",
              "      <td>0.000000</td>\n",
              "      <td>0.000000</td>\n",
              "      <td>0.000000</td>\n",
              "      <td>0.00000</td>\n",
              "      <td>0.000000</td>\n",
              "      <td>0.00000</td>\n",
              "      <td>0.000000</td>\n",
              "      <td>23.630000</td>\n",
              "      <td>4.800000</td>\n",
              "      <td>100.000000</td>\n",
              "      <td>0.000000</td>\n",
              "    </tr>\n",
              "    <tr>\n",
              "      <th>50%</th>\n",
              "      <td>43.000000</td>\n",
              "      <td>0.000000</td>\n",
              "      <td>0.000000</td>\n",
              "      <td>0.000000</td>\n",
              "      <td>0.00000</td>\n",
              "      <td>0.000000</td>\n",
              "      <td>0.00000</td>\n",
              "      <td>0.000000</td>\n",
              "      <td>27.320000</td>\n",
              "      <td>5.800000</td>\n",
              "      <td>140.000000</td>\n",
              "      <td>0.000000</td>\n",
              "    </tr>\n",
              "    <tr>\n",
              "      <th>75%</th>\n",
              "      <td>60.000000</td>\n",
              "      <td>0.000000</td>\n",
              "      <td>0.000000</td>\n",
              "      <td>0.000000</td>\n",
              "      <td>0.00000</td>\n",
              "      <td>0.000000</td>\n",
              "      <td>0.00000</td>\n",
              "      <td>0.000000</td>\n",
              "      <td>29.580000</td>\n",
              "      <td>6.200000</td>\n",
              "      <td>159.000000</td>\n",
              "      <td>0.000000</td>\n",
              "    </tr>\n",
              "    <tr>\n",
              "      <th>max</th>\n",
              "      <td>80.000000</td>\n",
              "      <td>1.000000</td>\n",
              "      <td>1.000000</td>\n",
              "      <td>1.000000</td>\n",
              "      <td>1.00000</td>\n",
              "      <td>1.000000</td>\n",
              "      <td>1.00000</td>\n",
              "      <td>1.000000</td>\n",
              "      <td>95.690000</td>\n",
              "      <td>9.000000</td>\n",
              "      <td>300.000000</td>\n",
              "      <td>1.000000</td>\n",
              "    </tr>\n",
              "  </tbody>\n",
              "</table>\n",
              "</div>\n",
              "    <div class=\"colab-df-buttons\">\n",
              "\n",
              "  <div class=\"colab-df-container\">\n",
              "    <button class=\"colab-df-convert\" onclick=\"convertToInteractive('df-08007cf0-5b1c-423f-94c0-2a5c59b5ed76')\"\n",
              "            title=\"Convert this dataframe to an interactive table.\"\n",
              "            style=\"display:none;\">\n",
              "\n",
              "  <svg xmlns=\"http://www.w3.org/2000/svg\" height=\"24px\" viewBox=\"0 -960 960 960\">\n",
              "    <path d=\"M120-120v-720h720v720H120Zm60-500h600v-160H180v160Zm220 220h160v-160H400v160Zm0 220h160v-160H400v160ZM180-400h160v-160H180v160Zm440 0h160v-160H620v160ZM180-180h160v-160H180v160Zm440 0h160v-160H620v160Z\"/>\n",
              "  </svg>\n",
              "    </button>\n",
              "\n",
              "  <style>\n",
              "    .colab-df-container {\n",
              "      display:flex;\n",
              "      gap: 12px;\n",
              "    }\n",
              "\n",
              "    .colab-df-convert {\n",
              "      background-color: #E8F0FE;\n",
              "      border: none;\n",
              "      border-radius: 50%;\n",
              "      cursor: pointer;\n",
              "      display: none;\n",
              "      fill: #1967D2;\n",
              "      height: 32px;\n",
              "      padding: 0 0 0 0;\n",
              "      width: 32px;\n",
              "    }\n",
              "\n",
              "    .colab-df-convert:hover {\n",
              "      background-color: #E2EBFA;\n",
              "      box-shadow: 0px 1px 2px rgba(60, 64, 67, 0.3), 0px 1px 3px 1px rgba(60, 64, 67, 0.15);\n",
              "      fill: #174EA6;\n",
              "    }\n",
              "\n",
              "    .colab-df-buttons div {\n",
              "      margin-bottom: 4px;\n",
              "    }\n",
              "\n",
              "    [theme=dark] .colab-df-convert {\n",
              "      background-color: #3B4455;\n",
              "      fill: #D2E3FC;\n",
              "    }\n",
              "\n",
              "    [theme=dark] .colab-df-convert:hover {\n",
              "      background-color: #434B5C;\n",
              "      box-shadow: 0px 1px 3px 1px rgba(0, 0, 0, 0.15);\n",
              "      filter: drop-shadow(0px 1px 2px rgba(0, 0, 0, 0.3));\n",
              "      fill: #FFFFFF;\n",
              "    }\n",
              "  </style>\n",
              "\n",
              "    <script>\n",
              "      const buttonEl =\n",
              "        document.querySelector('#df-08007cf0-5b1c-423f-94c0-2a5c59b5ed76 button.colab-df-convert');\n",
              "      buttonEl.style.display =\n",
              "        google.colab.kernel.accessAllowed ? 'block' : 'none';\n",
              "\n",
              "      async function convertToInteractive(key) {\n",
              "        const element = document.querySelector('#df-08007cf0-5b1c-423f-94c0-2a5c59b5ed76');\n",
              "        const dataTable =\n",
              "          await google.colab.kernel.invokeFunction('convertToInteractive',\n",
              "                                                    [key], {});\n",
              "        if (!dataTable) return;\n",
              "\n",
              "        const docLinkHtml = 'Like what you see? Visit the ' +\n",
              "          '<a target=\"_blank\" href=https://colab.research.google.com/notebooks/data_table.ipynb>data table notebook</a>'\n",
              "          + ' to learn more about interactive tables.';\n",
              "        element.innerHTML = '';\n",
              "        dataTable['output_type'] = 'display_data';\n",
              "        await google.colab.output.renderOutput(dataTable, element);\n",
              "        const docLink = document.createElement('div');\n",
              "        docLink.innerHTML = docLinkHtml;\n",
              "        element.appendChild(docLink);\n",
              "      }\n",
              "    </script>\n",
              "  </div>\n",
              "\n",
              "\n",
              "<div id=\"df-d93603db-2a1c-42c4-b7ae-7a54602135a9\">\n",
              "  <button class=\"colab-df-quickchart\" onclick=\"quickchart('df-d93603db-2a1c-42c4-b7ae-7a54602135a9')\"\n",
              "            title=\"Suggest charts\"\n",
              "            style=\"display:none;\">\n",
              "\n",
              "<svg xmlns=\"http://www.w3.org/2000/svg\" height=\"24px\"viewBox=\"0 0 24 24\"\n",
              "     width=\"24px\">\n",
              "    <g>\n",
              "        <path d=\"M19 3H5c-1.1 0-2 .9-2 2v14c0 1.1.9 2 2 2h14c1.1 0 2-.9 2-2V5c0-1.1-.9-2-2-2zM9 17H7v-7h2v7zm4 0h-2V7h2v10zm4 0h-2v-4h2v4z\"/>\n",
              "    </g>\n",
              "</svg>\n",
              "  </button>\n",
              "\n",
              "<style>\n",
              "  .colab-df-quickchart {\n",
              "      --bg-color: #E8F0FE;\n",
              "      --fill-color: #1967D2;\n",
              "      --hover-bg-color: #E2EBFA;\n",
              "      --hover-fill-color: #174EA6;\n",
              "      --disabled-fill-color: #AAA;\n",
              "      --disabled-bg-color: #DDD;\n",
              "  }\n",
              "\n",
              "  [theme=dark] .colab-df-quickchart {\n",
              "      --bg-color: #3B4455;\n",
              "      --fill-color: #D2E3FC;\n",
              "      --hover-bg-color: #434B5C;\n",
              "      --hover-fill-color: #FFFFFF;\n",
              "      --disabled-bg-color: #3B4455;\n",
              "      --disabled-fill-color: #666;\n",
              "  }\n",
              "\n",
              "  .colab-df-quickchart {\n",
              "    background-color: var(--bg-color);\n",
              "    border: none;\n",
              "    border-radius: 50%;\n",
              "    cursor: pointer;\n",
              "    display: none;\n",
              "    fill: var(--fill-color);\n",
              "    height: 32px;\n",
              "    padding: 0;\n",
              "    width: 32px;\n",
              "  }\n",
              "\n",
              "  .colab-df-quickchart:hover {\n",
              "    background-color: var(--hover-bg-color);\n",
              "    box-shadow: 0 1px 2px rgba(60, 64, 67, 0.3), 0 1px 3px 1px rgba(60, 64, 67, 0.15);\n",
              "    fill: var(--button-hover-fill-color);\n",
              "  }\n",
              "\n",
              "  .colab-df-quickchart-complete:disabled,\n",
              "  .colab-df-quickchart-complete:disabled:hover {\n",
              "    background-color: var(--disabled-bg-color);\n",
              "    fill: var(--disabled-fill-color);\n",
              "    box-shadow: none;\n",
              "  }\n",
              "\n",
              "  .colab-df-spinner {\n",
              "    border: 2px solid var(--fill-color);\n",
              "    border-color: transparent;\n",
              "    border-bottom-color: var(--fill-color);\n",
              "    animation:\n",
              "      spin 1s steps(1) infinite;\n",
              "  }\n",
              "\n",
              "  @keyframes spin {\n",
              "    0% {\n",
              "      border-color: transparent;\n",
              "      border-bottom-color: var(--fill-color);\n",
              "      border-left-color: var(--fill-color);\n",
              "    }\n",
              "    20% {\n",
              "      border-color: transparent;\n",
              "      border-left-color: var(--fill-color);\n",
              "      border-top-color: var(--fill-color);\n",
              "    }\n",
              "    30% {\n",
              "      border-color: transparent;\n",
              "      border-left-color: var(--fill-color);\n",
              "      border-top-color: var(--fill-color);\n",
              "      border-right-color: var(--fill-color);\n",
              "    }\n",
              "    40% {\n",
              "      border-color: transparent;\n",
              "      border-right-color: var(--fill-color);\n",
              "      border-top-color: var(--fill-color);\n",
              "    }\n",
              "    60% {\n",
              "      border-color: transparent;\n",
              "      border-right-color: var(--fill-color);\n",
              "    }\n",
              "    80% {\n",
              "      border-color: transparent;\n",
              "      border-right-color: var(--fill-color);\n",
              "      border-bottom-color: var(--fill-color);\n",
              "    }\n",
              "    90% {\n",
              "      border-color: transparent;\n",
              "      border-bottom-color: var(--fill-color);\n",
              "    }\n",
              "  }\n",
              "</style>\n",
              "\n",
              "  <script>\n",
              "    async function quickchart(key) {\n",
              "      const quickchartButtonEl =\n",
              "        document.querySelector('#' + key + ' button');\n",
              "      quickchartButtonEl.disabled = true;  // To prevent multiple clicks.\n",
              "      quickchartButtonEl.classList.add('colab-df-spinner');\n",
              "      try {\n",
              "        const charts = await google.colab.kernel.invokeFunction(\n",
              "            'suggestCharts', [key], {});\n",
              "      } catch (error) {\n",
              "        console.error('Error during call to suggestCharts:', error);\n",
              "      }\n",
              "      quickchartButtonEl.classList.remove('colab-df-spinner');\n",
              "      quickchartButtonEl.classList.add('colab-df-quickchart-complete');\n",
              "    }\n",
              "    (() => {\n",
              "      let quickchartButtonEl =\n",
              "        document.querySelector('#df-d93603db-2a1c-42c4-b7ae-7a54602135a9 button');\n",
              "      quickchartButtonEl.style.display =\n",
              "        google.colab.kernel.accessAllowed ? 'block' : 'none';\n",
              "    })();\n",
              "  </script>\n",
              "</div>\n",
              "\n",
              "    </div>\n",
              "  </div>\n"
            ],
            "application/vnd.google.colaboratory.intrinsic+json": {
              "type": "dataframe",
              "summary": "{\n  \"name\": \"data\",\n  \"rows\": 8,\n  \"fields\": [\n    {\n      \"column\": \"age\",\n      \"properties\": {\n        \"dtype\": \"number\",\n        \"std\": 35341.63551512144,\n        \"min\": 0.08,\n        \"max\": 100000.0,\n        \"num_unique_values\": 8,\n        \"samples\": [\n          41.885856000000004,\n          43.0,\n          100000.0\n        ],\n        \"semantic_type\": \"\",\n        \"description\": \"\"\n      }\n    },\n    {\n      \"column\": \"race:AfricanAmerican\",\n      \"properties\": {\n        \"dtype\": \"number\",\n        \"std\": 35355.25805209131,\n        \"min\": 0.0,\n        \"max\": 100000.0,\n        \"num_unique_values\": 5,\n        \"samples\": [\n          0.20223,\n          1.0,\n          0.40166483595954033\n        ],\n        \"semantic_type\": \"\",\n        \"description\": \"\"\n      }\n    },\n    {\n      \"column\": \"race:Asian\",\n      \"properties\": {\n        \"dtype\": \"number\",\n        \"std\": 35355.25823545232,\n        \"min\": 0.0,\n        \"max\": 100000.0,\n        \"num_unique_values\": 5,\n        \"samples\": [\n          0.20015,\n          1.0,\n          0.40011445664432593\n        ],\n        \"semantic_type\": \"\",\n        \"description\": \"\"\n      }\n    },\n    {\n      \"column\": \"race:Caucasian\",\n      \"properties\": {\n        \"dtype\": \"number\",\n        \"std\": 35355.25835846164,\n        \"min\": 0.0,\n        \"max\": 100000.0,\n        \"num_unique_values\": 5,\n        \"samples\": [\n          0.19876,\n          1.0,\n          0.3990689852150247\n        ],\n        \"semantic_type\": \"\",\n        \"description\": \"\"\n      }\n    },\n    {\n      \"column\": \"race:Hispanic\",\n      \"properties\": {\n        \"dtype\": \"number\",\n        \"std\": 35355.258347827024,\n        \"min\": 0.0,\n        \"max\": 100000.0,\n        \"num_unique_values\": 5,\n        \"samples\": [\n          0.19888,\n          1.0,\n          0.3991595406393148\n        ],\n        \"semantic_type\": \"\",\n        \"description\": \"\"\n      }\n    },\n    {\n      \"column\": \"race:Other\",\n      \"properties\": {\n        \"dtype\": \"number\",\n        \"std\": 35355.258250476116,\n        \"min\": 0.0,\n        \"max\": 100000.0,\n        \"num_unique_values\": 5,\n        \"samples\": [\n          0.19998,\n          1.0,\n          0.3999869991587163\n        ],\n        \"semantic_type\": \"\",\n        \"description\": \"\"\n      }\n    },\n    {\n      \"column\": \"hypertension\",\n      \"properties\": {\n        \"dtype\": \"number\",\n        \"std\": 35355.27148175323,\n        \"min\": 0.0,\n        \"max\": 100000.0,\n        \"num_unique_values\": 5,\n        \"samples\": [\n          0.07485,\n          1.0,\n          0.2631504702289164\n        ],\n        \"semantic_type\": \"\",\n        \"description\": \"\"\n      }\n    },\n    {\n      \"column\": \"heart_disease\",\n      \"properties\": {\n        \"dtype\": \"number\",\n        \"std\": 35355.27673391837,\n        \"min\": 0.0,\n        \"max\": 100000.0,\n        \"num_unique_values\": 5,\n        \"samples\": [\n          0.03942,\n          1.0,\n          0.1945930169980995\n        ],\n        \"semantic_type\": \"\",\n        \"description\": \"\"\n      }\n    },\n    {\n      \"column\": \"bmi\",\n      \"properties\": {\n        \"dtype\": \"number\",\n        \"std\": 35344.22862141613,\n        \"min\": 6.636783416648368,\n        \"max\": 100000.0,\n        \"num_unique_values\": 8,\n        \"samples\": [\n          27.320767099999994,\n          27.32,\n          100000.0\n        ],\n        \"semantic_type\": \"\",\n        \"description\": \"\"\n      }\n    },\n    {\n      \"column\": \"hbA1c_level\",\n      \"properties\": {\n        \"dtype\": \"number\",\n        \"std\": 35353.52600015908,\n        \"min\": 1.0706720918835437,\n        \"max\": 100000.0,\n        \"num_unique_values\": 8,\n        \"samples\": [\n          5.527507,\n          5.8,\n          100000.0\n        ],\n        \"semantic_type\": \"\",\n        \"description\": \"\"\n      }\n    },\n    {\n      \"column\": \"blood_glucose_level\",\n      \"properties\": {\n        \"dtype\": \"number\",\n        \"std\": 35307.04741219372,\n        \"min\": 40.70813604870415,\n        \"max\": 100000.0,\n        \"num_unique_values\": 8,\n        \"samples\": [\n          138.05806,\n          140.0,\n          100000.0\n        ],\n        \"semantic_type\": \"\",\n        \"description\": \"\"\n      }\n    },\n    {\n      \"column\": \"diabetes\",\n      \"properties\": {\n        \"dtype\": \"number\",\n        \"std\": 35355.270174483856,\n        \"min\": 0.0,\n        \"max\": 100000.0,\n        \"num_unique_values\": 5,\n        \"samples\": [\n          0.085,\n          1.0,\n          0.27888308976662174\n        ],\n        \"semantic_type\": \"\",\n        \"description\": \"\"\n      }\n    }\n  ]\n}"
            }
          },
          "metadata": {},
          "execution_count": 116
        }
      ]
    },
    {
      "cell_type": "code",
      "source": [
        "data['age'].value_counts()"
      ],
      "metadata": {
        "colab": {
          "base_uri": "https://localhost:8080/"
        },
        "id": "HZctENK52r8c",
        "outputId": "91e85e7d-cefe-4374-a36c-34c5bed03f43"
      },
      "execution_count": 117,
      "outputs": [
        {
          "output_type": "execute_result",
          "data": {
            "text/plain": [
              "age\n",
              "80.00    5621\n",
              "51.00    1619\n",
              "47.00    1574\n",
              "48.00    1568\n",
              "53.00    1542\n",
              "         ... \n",
              "0.48       83\n",
              "1.00       83\n",
              "0.40       66\n",
              "0.16       59\n",
              "0.08       36\n",
              "Name: count, Length: 102, dtype: int64"
            ]
          },
          "metadata": {},
          "execution_count": 117
        }
      ]
    },
    {
      "cell_type": "code",
      "source": [
        "# Data validation: Remove rows with invalid age values\n",
        "# The minimum age value in the dataset is 0.08, which is not valid.\n",
        "# Therefore, rows where the age is less than or equal to 1 are removed.\n",
        "\n",
        "data = data[data['age'] > 1]\n",
        "data.shape"
      ],
      "metadata": {
        "colab": {
          "base_uri": "https://localhost:8080/"
        },
        "id": "xWkuai4gzZQY",
        "outputId": "44e739ba-6a20-48e7-d11b-da0e2cc32518"
      },
      "execution_count": 118,
      "outputs": [
        {
          "output_type": "execute_result",
          "data": {
            "text/plain": [
              "(99006, 16)"
            ]
          },
          "metadata": {},
          "execution_count": 118
        }
      ]
    },
    {
      "cell_type": "code",
      "source": [
        "# Remove duplicates entries if any\n",
        "duplicates = data.duplicated()\n",
        "print(data[duplicates])\n",
        "\n",
        "data.drop_duplicates(inplace=True)\n",
        "data.shape"
      ],
      "metadata": {
        "colab": {
          "base_uri": "https://localhost:8080/"
        },
        "id": "ROgVmo-FcNEN",
        "outputId": "c3845cf8-d516-48b7-aaca-0dd35e79ef3a",
        "collapsed": true
      },
      "execution_count": 119,
      "outputs": [
        {
          "output_type": "stream",
          "name": "stdout",
          "text": [
            "       year  gender   age        location  race:AfricanAmerican  race:Asian  \\\n",
            "2848   1970    Male  40.0          Alaska                     0           0   \n",
            "21662  1970    Male  65.0         Georgia                     0           1   \n",
            "23313  1970  Female  21.0            Guam                     0           1   \n",
            "26317  1970    Male  80.0           Idaho                     0           1   \n",
            "33506  1970    Male  13.0            Iowa                     0           1   \n",
            "38483  1970  Female  80.0       Louisiana                     0           0   \n",
            "43401  1970    Male  46.0        Maryland                     0           1   \n",
            "47208  1970  Female  21.0        Michigan                     0           0   \n",
            "48472  1970  Female  29.0       Minnesota                     1           0   \n",
            "57881  1970  Female  62.0        Nebraska                     1           0   \n",
            "59507  1970    Male  14.0          Nevada                     0           1   \n",
            "61867  1970  Female  11.0   New Hampshire                     0           1   \n",
            "65311  1970  Female  80.0      New Mexico                     1           0   \n",
            "71285  1970  Female  80.0    North Dakota                     0           0   \n",
            "73971  1970    Male  70.0            Ohio                     0           0   \n",
            "76007  1970    Male  45.0        Oklahoma                     0           0   \n",
            "79363  1970    Male  12.0    Pennsylvania                     0           1   \n",
            "79726  1970  Female  80.0    Pennsylvania                     0           0   \n",
            "81939  1970    Male  19.0    Rhode Island                     0           0   \n",
            "84085  1970  Female  20.0  South Carolina                     0           1   \n",
            "\n",
            "       race:Caucasian  race:Hispanic  race:Other  hypertension  heart_disease  \\\n",
            "2848                1              0           0             0              0   \n",
            "21662               0              0           0             0              0   \n",
            "23313               0              0           0             0              0   \n",
            "26317               0              0           0             0              0   \n",
            "33506               0              0           0             0              0   \n",
            "38483               1              0           0             0              0   \n",
            "43401               0              0           0             0              0   \n",
            "47208               0              0           1             0              0   \n",
            "48472               0              0           0             0              0   \n",
            "57881               0              0           0             0              0   \n",
            "59507               0              0           0             0              0   \n",
            "61867               0              0           0             0              0   \n",
            "65311               0              0           0             0              0   \n",
            "71285               1              0           0             0              0   \n",
            "73971               0              1           0             0              0   \n",
            "76007               1              0           0             0              0   \n",
            "79363               0              0           0             0              0   \n",
            "79726               0              0           1             0              0   \n",
            "81939               0              0           1             0              0   \n",
            "84085               0              0           0             0              0   \n",
            "\n",
            "      smoking_history    bmi  hbA1c_level  blood_glucose_level  diabetes  \n",
            "2848          No Info  27.32          6.2                   85         0  \n",
            "21662         No Info  27.32          4.0                   90         0  \n",
            "23313           never  27.32          6.6                  155         0  \n",
            "26317         No Info  27.32          5.7                   80         0  \n",
            "33506         No Info  27.32          4.8                  160         0  \n",
            "38483           never  27.32          6.2                  130         0  \n",
            "43401           never  27.32          6.6                   90         0  \n",
            "47208         No Info  27.32          3.5                   85         0  \n",
            "48472         No Info  27.32          4.8                  160         0  \n",
            "57881         No Info  27.32          4.0                  126         0  \n",
            "59507         No Info  27.32          6.5                  200         0  \n",
            "61867         No Info  27.32          6.6                   85         0  \n",
            "65311         No Info  27.32          5.7                  159         0  \n",
            "71285         No Info  27.32          5.8                  126         0  \n",
            "73971         No Info  27.32          4.5                  155         0  \n",
            "76007           never  27.32          6.6                  145         0  \n",
            "79363         No Info  27.32          4.5                  126         0  \n",
            "79726         No Info  27.32          6.5                  159         0  \n",
            "81939           never  27.32          4.8                  140         0  \n",
            "84085           never  27.32          4.0                   85         0  \n"
          ]
        },
        {
          "output_type": "execute_result",
          "data": {
            "text/plain": [
              "(98986, 16)"
            ]
          },
          "metadata": {},
          "execution_count": 119
        }
      ]
    },
    {
      "cell_type": "code",
      "source": [
        "# Check for missing values\n",
        "print(data.isnull().sum())"
      ],
      "metadata": {
        "collapsed": true,
        "id": "pzZfqsRLd0e4",
        "outputId": "c6022f9a-7358-45a9-bdb9-b3b75cd1bd26",
        "colab": {
          "base_uri": "https://localhost:8080/"
        }
      },
      "execution_count": 120,
      "outputs": [
        {
          "output_type": "stream",
          "name": "stdout",
          "text": [
            "year                    0\n",
            "gender                  0\n",
            "age                     0\n",
            "location                0\n",
            "race:AfricanAmerican    0\n",
            "race:Asian              0\n",
            "race:Caucasian          0\n",
            "race:Hispanic           0\n",
            "race:Other              0\n",
            "hypertension            0\n",
            "heart_disease           0\n",
            "smoking_history         0\n",
            "bmi                     0\n",
            "hbA1c_level             0\n",
            "blood_glucose_level     0\n",
            "diabetes                0\n",
            "dtype: int64\n"
          ]
        }
      ]
    },
    {
      "cell_type": "code",
      "source": [
        "data['year'].unique()"
      ],
      "metadata": {
        "colab": {
          "base_uri": "https://localhost:8080/"
        },
        "id": "VLySB1w75RnR",
        "outputId": "59933f1e-67c8-4f9a-d4b9-221f236b9b3c"
      },
      "execution_count": 121,
      "outputs": [
        {
          "output_type": "execute_result",
          "data": {
            "text/plain": [
              "array(['1970'], dtype=object)"
            ]
          },
          "metadata": {},
          "execution_count": 121
        }
      ]
    },
    {
      "cell_type": "code",
      "source": [
        "data.drop(['year'], axis=1, inplace=True)"
      ],
      "metadata": {
        "id": "Rd0OsEBc5YlI"
      },
      "execution_count": 122,
      "outputs": []
    },
    {
      "cell_type": "code",
      "source": [
        "# Encode categorical features using LabelEncoder\n",
        "le = LabelEncoder()\n",
        "data['gender'] = le.fit_transform(data['gender'])\n",
        "data['location'] = le.fit_transform(data['location'])\n",
        "\n",
        "# Scaled according to the intensity of smoking addiction.\n",
        "# -1 for No info as it doesn't give any information so needs to be treated separately.\n",
        "\n",
        "data['smoking_history'] = data['smoking_history'].map({'never': 0.0, 'not current': 0.4, 'former':0.6, 'current': 0.8, 'ever' :1, 'No Info': -1})"
      ],
      "metadata": {
        "id": "tp2NgwPE4cbu"
      },
      "execution_count": 123,
      "outputs": []
    },
    {
      "cell_type": "code",
      "source": [
        "# Display correlation heatmap\n",
        "\n",
        "plt.figure(figsize=(14,9))\n",
        "corr=data.corr()\n",
        "sns.heatmap(corr,annot=True,cmap=\"YlOrBr\",linewidths=0.6,fmt=\".1f\",linecolor=\"black\")\n",
        "plt.show()"
      ],
      "metadata": {
        "colab": {
          "base_uri": "https://localhost:8080/",
          "height": 718
        },
        "id": "vV-uRC9fiVQo",
        "outputId": "8cbfb971-13c2-4b2f-a421-23004040d188"
      },
      "execution_count": 124,
      "outputs": [
        {
          "output_type": "display_data",
          "data": {
            "text/plain": [
              "<Figure size 1400x900 with 2 Axes>"
            ],
            "image/png": "[encoded data removed]"
          },
          "metadata": {}
        }
      ]
    },
    {
      "cell_type": "code",
      "source": [
        "fig, ax = plt.subplots(figsize=(12, 10))\n",
        "\n",
        "# Visualize correlation using Heatmap\n",
        "for i in range(len(corr.columns)):\n",
        "    for j in range(len(corr.columns)):\n",
        "      corr_value = corr.iloc[i, j]\n",
        "      if not np.isnan(corr_value):\n",
        "        radius = np.abs(corr_value) * 0.26  # Adjust the multiplier to control the maximum circle size\n",
        "        color = 'red' if corr_value > 0 else 'blue'\n",
        "        circle = plt.Circle((j + 0.3, i + 0.3), radius=radius, color=color, alpha=0.6)\n",
        "        ax.add_artist(circle)\n",
        "        # ax.text(j + 0.3, i + 0.3, f'{corr_value:.2f}', ha='center', va='center', color='black')\n",
        "\n",
        "# Set titles and labels\n",
        "plt.title('Correlation Heatmap with Circles Indicating Correlation Magnitude')\n",
        "plt.xticks(np.arange(len(corr.columns)) + 0.5, corr.columns, rotation=45, ha='right')\n",
        "plt.yticks(np.arange(len(corr.columns)) + 0.5, corr.columns, rotation=0)\n",
        "plt.gca().invert_yaxis()  # Ensure the heatmap is not upside down\n",
        "plt.show()"
      ],
      "metadata": {
        "colab": {
          "base_uri": "https://localhost:8080/",
          "height": 812
        },
        "id": "LikXcTuei4LW",
        "outputId": "387b6a0f-6cf4-4792-c530-a5e642707dd3"
      },
      "execution_count": 125,
      "outputs": [
        {
          "output_type": "display_data",
          "data": {
            "text/plain": [
              "<Figure size 1200x1000 with 1 Axes>"
            ],
            "image/png": "[encoded data removed]"
          },
          "metadata": {}
        }
      ]
    },
    {
      "cell_type": "markdown",
      "source": [
        "## Summary\n",
        "1. No missing values\n",
        "2. Skewed distribution of features\n",
        "3. Removed 20 duplicates values\n",
        "4. This heatmap depicts very less correlation between diabetes and location/race."
      ],
      "metadata": {
        "id": "rBaN3DLbLOmj"
      }
    },
    {
      "cell_type": "code",
      "source": [
        "# Calculate the statistical significance.\n",
        "\n",
        "import pandas as pd\n",
        "from scipy.stats import ttest_ind\n",
        "\n",
        "from IPython.display import HTML, display\n",
        "\n",
        "# Define function to print colored text\n",
        "def print_colored(text, color):\n",
        "    display(HTML(f\"<p style='color: {color};'>{text}</p>\"))\n",
        "\n",
        "# Assuming your data is in a DataFrame named 'data' with columns 'hba1c' and 'diabetes'\n",
        "cols = [i for i in data.columns if i != 'diabetes']\n",
        "alpha = 0.05\n",
        "\n",
        "for i in range(len(cols)):\n",
        "    diab = data[data['diabetes'] == 1][cols[i]]\n",
        "    no_diab = data[data['diabetes'] == 0][cols[i]]\n",
        "    t_stat, p_value = ttest_ind(diab, no_diab)\n",
        "    print(f\"T-statistic for {cols[i]}: {t_stat}\")\n",
        "    print(f\"P-value for {cols[i]}: {p_value}\")\n",
        "\n",
        "    if p_value < alpha:\n",
        "        print_colored(f\"The difference in {cols[i]} between diabetic and non-diabetic groups is statistically significant.\", 'red')\n",
        "    else:\n",
        "        print(f\"The difference in {cols[i]} between diabetic and non-diabetic groups is not statistically significant.\")\n",
        "\n",
        "    print(\"-\"*50)\n"
      ],
      "metadata": {
        "colab": {
          "base_uri": "https://localhost:8080/",
          "height": 1000
        },
        "id": "8x_O0uQO634d",
        "outputId": "c857bcd8-34e6-432b-e40e-9546c4f60530"
      },
      "execution_count": 126,
      "outputs": [
        {
          "output_type": "stream",
          "name": "stdout",
          "text": [
            "T-statistic for gender: 12.049660175306217\n",
            "P-value for gender: 2.0554101727175077e-33\n"
          ]
        },
        {
          "output_type": "display_data",
          "data": {
            "text/plain": [
              "<IPython.core.display.HTML object>"
            ],
            "text/html": [
              "<p style='color: red;'>The difference in gender between diabetic and non-diabetic groups is statistically significant.</p>"
            ]
          },
          "metadata": {}
        },
        {
          "output_type": "stream",
          "name": "stdout",
          "text": [
            "--------------------------------------------------\n",
            "T-statistic for age: 83.6448365903088\n",
            "P-value for age: 0.0\n"
          ]
        },
        {
          "output_type": "display_data",
          "data": {
            "text/plain": [
              "<IPython.core.display.HTML object>"
            ],
            "text/html": [
              "<p style='color: red;'>The difference in age between diabetic and non-diabetic groups is statistically significant.</p>"
            ]
          },
          "metadata": {}
        },
        {
          "output_type": "stream",
          "name": "stdout",
          "text": [
            "--------------------------------------------------\n",
            "T-statistic for location: -0.014346941255515137\n",
            "P-value for location: 0.9885532186853514\n",
            "The difference in location between diabetic and non-diabetic groups is not statistically significant.\n",
            "--------------------------------------------------\n",
            "T-statistic for race:AfricanAmerican: 1.44392832337076\n",
            "P-value for race:AfricanAmerican: 0.14876230346039346\n",
            "The difference in race:AfricanAmerican between diabetic and non-diabetic groups is not statistically significant.\n",
            "--------------------------------------------------\n",
            "T-statistic for race:Asian: 1.138945122878947\n",
            "P-value for race:Asian: 0.25472879997953185\n",
            "The difference in race:Asian between diabetic and non-diabetic groups is not statistically significant.\n",
            "--------------------------------------------------\n",
            "T-statistic for race:Caucasian: -0.5861044701960648\n",
            "P-value for race:Caucasian: 0.5578066488946258\n",
            "The difference in race:Caucasian between diabetic and non-diabetic groups is not statistically significant.\n",
            "--------------------------------------------------\n",
            "T-statistic for race:Hispanic: -0.40098698676257977\n",
            "P-value for race:Hispanic: 0.6884305704029581\n",
            "The difference in race:Hispanic between diabetic and non-diabetic groups is not statistically significant.\n",
            "--------------------------------------------------\n",
            "T-statistic for race:Other: -1.604094889498423\n",
            "P-value for race:Other: 0.10869632861677095\n",
            "The difference in race:Other between diabetic and non-diabetic groups is not statistically significant.\n",
            "--------------------------------------------------\n",
            "T-statistic for hypertension: 63.255392714440504\n",
            "P-value for hypertension: 0.0\n"
          ]
        },
        {
          "output_type": "display_data",
          "data": {
            "text/plain": [
              "<IPython.core.display.HTML object>"
            ],
            "text/html": [
              "<p style='color: red;'>The difference in hypertension between diabetic and non-diabetic groups is statistically significant.</p>"
            ]
          },
          "metadata": {}
        },
        {
          "output_type": "stream",
          "name": "stdout",
          "text": [
            "--------------------------------------------------\n",
            "T-statistic for heart_disease: 54.67348212472394\n",
            "P-value for heart_disease: 0.0\n"
          ]
        },
        {
          "output_type": "display_data",
          "data": {
            "text/plain": [
              "<IPython.core.display.HTML object>"
            ],
            "text/html": [
              "<p style='color: red;'>The difference in heart_disease between diabetic and non-diabetic groups is statistically significant.</p>"
            ]
          },
          "metadata": {}
        },
        {
          "output_type": "stream",
          "name": "stdout",
          "text": [
            "--------------------------------------------------\n",
            "T-statistic for smoking_history: 38.45763602821332\n",
            "P-value for smoking_history: 0.0\n"
          ]
        },
        {
          "output_type": "display_data",
          "data": {
            "text/plain": [
              "<IPython.core.display.HTML object>"
            ],
            "text/html": [
              "<p style='color: red;'>The difference in smoking_history between diabetic and non-diabetic groups is statistically significant.</p>"
            ]
          },
          "metadata": {}
        },
        {
          "output_type": "stream",
          "name": "stdout",
          "text": [
            "--------------------------------------------------\n",
            "T-statistic for bmi: 68.4710716204071\n",
            "P-value for bmi: 0.0\n"
          ]
        },
        {
          "output_type": "display_data",
          "data": {
            "text/plain": [
              "<IPython.core.display.HTML object>"
            ],
            "text/html": [
              "<p style='color: red;'>The difference in bmi between diabetic and non-diabetic groups is statistically significant.</p>"
            ]
          },
          "metadata": {}
        },
        {
          "output_type": "stream",
          "name": "stdout",
          "text": [
            "--------------------------------------------------\n",
            "T-statistic for hbA1c_level: 138.18670913426362\n",
            "P-value for hbA1c_level: 0.0\n"
          ]
        },
        {
          "output_type": "display_data",
          "data": {
            "text/plain": [
              "<IPython.core.display.HTML object>"
            ],
            "text/html": [
              "<p style='color: red;'>The difference in hbA1c_level between diabetic and non-diabetic groups is statistically significant.</p>"
            ]
          },
          "metadata": {}
        },
        {
          "output_type": "stream",
          "name": "stdout",
          "text": [
            "--------------------------------------------------\n",
            "T-statistic for blood_glucose_level: 145.9659170064217\n",
            "P-value for blood_glucose_level: 0.0\n"
          ]
        },
        {
          "output_type": "display_data",
          "data": {
            "text/plain": [
              "<IPython.core.display.HTML object>"
            ],
            "text/html": [
              "<p style='color: red;'>The difference in blood_glucose_level between diabetic and non-diabetic groups is statistically significant.</p>"
            ]
          },
          "metadata": {}
        },
        {
          "output_type": "stream",
          "name": "stdout",
          "text": [
            "--------------------------------------------------\n"
          ]
        }
      ]
    },
    {
      "cell_type": "code",
      "source": [
        "# remove non-significant columns\n",
        "\n",
        "data.drop(['location', 'race:AfricanAmerican', 'race:Asian','race:Caucasian', 'race:Hispanic', 'race:Other'], inplace= True, axis=1)"
      ],
      "metadata": {
        "id": "ExpXU4iP551_"
      },
      "execution_count": 127,
      "outputs": []
    },
    {
      "cell_type": "code",
      "source": [
        "# Group the BMI numbers into 5 categories - underweight, heatlhy, overweight, obese and severly obese\n",
        "# underweight - <18.5          0\n",
        "# healthy - 18.5 to 24.9       1\n",
        "# overweight - 25 to 29.9      2\n",
        "# obese - 30 to 39.9           3\n",
        "# severly obese - >40          4\n",
        "\n",
        "# def func(x):\n",
        "#     if x < 18.5:\n",
        "#         return 0\n",
        "#     elif 18.5 <= x <= 24.9:\n",
        "#         return 1\n",
        "#     elif 25 <= x <= 29.9:\n",
        "#         return 2\n",
        "#     elif 30 <= x <= 39.9:\n",
        "#         return 3\n",
        "#     else:\n",
        "#         return 4\n",
        "\n",
        "# data['bmi_category'] = data['bmi'].apply(func)"
      ],
      "metadata": {
        "id": "zGNtXV79WEBx"
      },
      "execution_count": 128,
      "outputs": []
    },
    {
      "cell_type": "code",
      "source": [
        "# check skewness of each column\n",
        "# lower than -1 or greater than 1 means highly skewed\n",
        "for i in data.columns:\n",
        "    print(i)\n",
        "    print(data[i].skew())\n",
        "    print()"
      ],
      "metadata": {
        "colab": {
          "base_uri": "https://localhost:8080/"
        },
        "id": "wMv4S0MycgFj",
        "outputId": "e2b28f24-77dc-485a-aa09-9a25f2ebd6b7",
        "collapsed": true
      },
      "execution_count": 129,
      "outputs": [
        {
          "output_type": "stream",
          "name": "stdout",
          "text": [
            "gender\n",
            "0.3552968642383481\n",
            "\n",
            "age\n",
            "-0.046157861599351174\n",
            "\n",
            "hypertension\n",
            "3.2104045306291025\n",
            "\n",
            "heart_disease\n",
            "4.706670869066762\n",
            "\n",
            "smoking_history\n",
            "-0.051650009635579766\n",
            "\n",
            "bmi\n",
            "1.0823532354043253\n",
            "\n",
            "hbA1c_level\n",
            "-0.06383563284967293\n",
            "\n",
            "blood_glucose_level\n",
            "0.8253582771909281\n",
            "\n",
            "diabetes\n",
            "2.95628378571917\n",
            "\n"
          ]
        }
      ]
    },
    {
      "cell_type": "code",
      "source": [
        "# barplot of heart-disease column\n",
        "sns.countplot(x='heart_disease', hue='diabetes', data=data, palette='Set2')"
      ],
      "metadata": {
        "colab": {
          "base_uri": "https://localhost:8080/",
          "height": 467
        },
        "id": "bWoVElc_dX3G",
        "outputId": "52d73102-6b48-4544-e305-d825ca8f24d9",
        "collapsed": true
      },
      "execution_count": 130,
      "outputs": [
        {
          "output_type": "execute_result",
          "data": {
            "text/plain": [
              "<Axes: xlabel='heart_disease', ylabel='count'>"
            ]
          },
          "metadata": {},
          "execution_count": 130
        },
        {
          "output_type": "display_data",
          "data": {
            "text/plain": [
              "<Figure size 640x480 with 1 Axes>"
            ],
            "image/png": "[encoded data removed]"
          },
          "metadata": {}
        }
      ]
    },
    {
      "cell_type": "code",
      "source": [
        "sns.countplot(x='hypertension', hue = 'diabetes',data=data)"
      ],
      "metadata": {
        "colab": {
          "base_uri": "https://localhost:8080/",
          "height": 466
        },
        "id": "ZmVsANKLDPqa",
        "outputId": "4f278d72-2b84-43fc-97f4-63ec43fe4e26"
      },
      "execution_count": 131,
      "outputs": [
        {
          "output_type": "execute_result",
          "data": {
            "text/plain": [
              "<Axes: xlabel='hypertension', ylabel='count'>"
            ]
          },
          "metadata": {},
          "execution_count": 131
        },
        {
          "output_type": "display_data",
          "data": {
            "text/plain": [
              "<Figure size 640x480 with 1 Axes>"
            ],
            "image/png": "[encoded data removed]"
          },
          "metadata": {}
        }
      ]
    },
    {
      "cell_type": "code",
      "source": [
        "sns.countplot(x='gender', data=data, hue = 'diabetes', palette='husl')"
      ],
      "metadata": {
        "colab": {
          "base_uri": "https://localhost:8080/",
          "height": 466
        },
        "id": "lxyLVOC_DUXK",
        "outputId": "34d7b7db-5692-461c-a76c-79e64c474cec"
      },
      "execution_count": 132,
      "outputs": [
        {
          "output_type": "execute_result",
          "data": {
            "text/plain": [
              "<Axes: xlabel='gender', ylabel='count'>"
            ]
          },
          "metadata": {},
          "execution_count": 132
        },
        {
          "output_type": "display_data",
          "data": {
            "text/plain": [
              "<Figure size 640x480 with 1 Axes>"
            ],
            "image/png": "[encoded data removed]"
          },
          "metadata": {}
        }
      ]
    },
    {
      "cell_type": "code",
      "source": [
        "# Auto EDA\n",
        "import sweetviz as sv\n",
        "sweet_report = sv.analyze(data)\n",
        "sweet_report.show_html('diabetes_report.html')"
      ],
      "metadata": {
        "colab": {
          "base_uri": "https://localhost:8080/",
          "height": 86,
          "referenced_widgets": [
            "25b1cead9a4c4e8e9dde11b4779ebb04",
            "5be088440a804d07985f8cb7884165e7",
            "11785edc6d9d44b5b46caa39fc847ae7",
            "1a4c911a79eb4f5d8fe455f2ed22dac8",
            "ad9f8c82e5f9449cbbd2d6ff8b0f3fb0",
            "ec16dda3c3df4c309f65f3070ff55c72",
            "cb67d28cc47044788033f3571abc6897",
            "1651445a87464ef3a6655a43873c608b",
            "b0196a1f9a8044c7a2044bba32c3430e",
            "fdd6b0e60152434d811301ecd8e3c28b",
            "5ed096410d194c2a9a8a05491ccbc0eb"
          ]
        },
        "id": "BoJlgBzKI7Iz",
        "outputId": "abe55c60-855b-40f9-d220-9ed548ee06c4"
      },
      "execution_count": 133,
      "outputs": [
        {
          "output_type": "display_data",
          "data": {
            "text/plain": [
              "                                             |          | [  0%]   00:00 -> (? left)"
            ],
            "application/vnd.jupyter.widget-view+json": {
              "version_major": 2,
              "version_minor": 0,
              "model_id": "25b1cead9a4c4e8e9dde11b4779ebb04"
            }
          },
          "metadata": {}
        },
        {
          "output_type": "stream",
          "name": "stdout",
          "text": [
            "Report diabetes_report.html was generated! NOTEBOOK/COLAB USERS: the web browser MAY not pop up, regardless, the report IS saved in your notebook/colab files.\n"
          ]
        }
      ]
    },
    {
      "cell_type": "code",
      "source": [
        "from autoviz.AutoViz_Class import AutoViz_Class\n",
        "AV = AutoViz_Class()\n",
        "\n",
        "# Call AutoViz using the filename (or dataframe) along with the separator and\n",
        "# the name of the target variable in the input.\n",
        "\n",
        "filename = \"/content/diabetes_dataset.csv\"\n",
        "sep = ','\n",
        "dft = AV.AutoViz(filename, sep=\",\", depVar='diabetes')"
      ],
      "metadata": {
        "colab": {
          "base_uri": "https://localhost:8080/",
          "height": 1000
        },
        "id": "Se1OEK0AI6y1",
        "outputId": "d6763f01-cccf-4547-dbea-5ffe3821ef5c"
      },
      "execution_count": 134,
      "outputs": [
        {
          "output_type": "stream",
          "name": "stdout",
          "text": [
            "Imported v0.1.905. Please call AutoViz in this sequence:\n",
            "    AV = AutoViz_Class()\n",
            "    %matplotlib inline\n",
            "    dfte = AV.AutoViz(filename, sep=',', depVar='', dfte=None, header=0, verbose=1, lowess=False,\n",
            "               chart_format='svg',max_rows_analyzed=150000,max_cols_analyzed=30, save_plot_dir=None)\n",
            "Shape of your Data Set loaded: (100000, 16)\n",
            "#######################################################################################\n",
            "######################## C L A S S I F Y I N G  V A R I A B L E S  ####################\n",
            "#######################################################################################\n",
            "Classifying variables in data set...\n",
            "    Number of Numeric Columns =  3\n",
            "    Number of Integer-Categorical Columns =  1\n",
            "    Number of String-Categorical Columns =  3\n",
            "    Number of Factor-Categorical Columns =  0\n",
            "    Number of String-Boolean Columns =  0\n",
            "    Number of Numeric-Boolean Columns =  7\n",
            "    Number of Discrete String Columns =  0\n",
            "    Number of NLP String Columns =  0\n",
            "    Number of Date Time Columns =  1\n",
            "    Number of ID Columns =  0\n",
            "    Number of Columns to Delete =  0\n",
            "    15 Predictors classified...\n",
            "        No variables removed since no ID or low-information variables found in data set\n",
            "\n",
            "################ Binary_Classification problem #####################\n",
            "To fix these data quality issues in the dataset, import FixDQ from autoviz...\n",
            "There are 14 duplicate rows in your dataset\n",
            "    Alert: Dropping duplicate rows can sometimes cause your column data types to change to object!\n",
            "    All variables classified into correct types.\n"
          ]
        },
        {
          "output_type": "display_data",
          "data": {
            "text/plain": [
              "<pandas.io.formats.style.Styler at 0x7b0a5ad96e60>"
            ],
            "text/html": [
              "<style type=\"text/css\">\n",
              "#T_348e8_row0_col0, #T_348e8_row0_col2, #T_348e8_row0_col3, #T_348e8_row0_col4, #T_348e8_row0_col5, #T_348e8_row1_col0, #T_348e8_row1_col2, #T_348e8_row1_col3, #T_348e8_row1_col4, #T_348e8_row1_col5, #T_348e8_row2_col0, #T_348e8_row2_col2, #T_348e8_row2_col3, #T_348e8_row2_col4, #T_348e8_row2_col5, #T_348e8_row3_col0, #T_348e8_row3_col2, #T_348e8_row3_col3, #T_348e8_row3_col4, #T_348e8_row3_col5, #T_348e8_row4_col0, #T_348e8_row4_col2, #T_348e8_row4_col3, #T_348e8_row4_col4, #T_348e8_row4_col5, #T_348e8_row5_col0, #T_348e8_row5_col2, #T_348e8_row5_col3, #T_348e8_row5_col4, #T_348e8_row5_col5, #T_348e8_row6_col0, #T_348e8_row6_col2, #T_348e8_row6_col3, #T_348e8_row6_col4, #T_348e8_row6_col5, #T_348e8_row7_col0, #T_348e8_row7_col2, #T_348e8_row7_col3, #T_348e8_row7_col4, #T_348e8_row7_col5, #T_348e8_row8_col0, #T_348e8_row8_col2, #T_348e8_row8_col3, #T_348e8_row8_col4, #T_348e8_row8_col5, #T_348e8_row9_col0, #T_348e8_row9_col2, #T_348e8_row9_col3, #T_348e8_row9_col4, #T_348e8_row9_col5, #T_348e8_row10_col0, #T_348e8_row10_col2, #T_348e8_row10_col3, #T_348e8_row10_col4, #T_348e8_row10_col5, #T_348e8_row11_col0, #T_348e8_row11_col2, #T_348e8_row11_col3, #T_348e8_row11_col4, #T_348e8_row11_col5, #T_348e8_row12_col0, #T_348e8_row12_col2, #T_348e8_row12_col3, #T_348e8_row12_col4, #T_348e8_row12_col5, #T_348e8_row13_col0, #T_348e8_row13_col2, #T_348e8_row13_col3, #T_348e8_row13_col4, #T_348e8_row13_col5, #T_348e8_row14_col0, #T_348e8_row14_col2, #T_348e8_row14_col3, #T_348e8_row14_col4, #T_348e8_row14_col5, #T_348e8_row15_col0, #T_348e8_row15_col2, #T_348e8_row15_col3, #T_348e8_row15_col4, #T_348e8_row15_col5 {\n",
              "  font-family: Segoe UI;\n",
              "}\n",
              "#T_348e8_row0_col1, #T_348e8_row1_col1, #T_348e8_row2_col1, #T_348e8_row3_col1, #T_348e8_row4_col1, #T_348e8_row5_col1, #T_348e8_row6_col1, #T_348e8_row7_col1, #T_348e8_row8_col1, #T_348e8_row9_col1, #T_348e8_row10_col1, #T_348e8_row11_col1, #T_348e8_row12_col1, #T_348e8_row13_col1, #T_348e8_row14_col1, #T_348e8_row15_col1 {\n",
              "  background-color: #fff5f0;\n",
              "  color: #000000;\n",
              "  font-family: Segoe UI;\n",
              "}\n",
              "</style>\n",
              "<table id=\"T_348e8\" class=\"dataframe\">\n",
              "  <thead>\n",
              "    <tr>\n",
              "      <th class=\"blank level0\" >&nbsp;</th>\n",
              "      <th id=\"T_348e8_level0_col0\" class=\"col_heading level0 col0\" >Data Type</th>\n",
              "      <th id=\"T_348e8_level0_col1\" class=\"col_heading level0 col1\" >Missing Values%</th>\n",
              "      <th id=\"T_348e8_level0_col2\" class=\"col_heading level0 col2\" >Unique Values%</th>\n",
              "      <th id=\"T_348e8_level0_col3\" class=\"col_heading level0 col3\" >Minimum Value</th>\n",
              "      <th id=\"T_348e8_level0_col4\" class=\"col_heading level0 col4\" >Maximum Value</th>\n",
              "      <th id=\"T_348e8_level0_col5\" class=\"col_heading level0 col5\" >DQ Issue</th>\n",
              "    </tr>\n",
              "  </thead>\n",
              "  <tbody>\n",
              "    <tr>\n",
              "      <th id=\"T_348e8_level0_row0\" class=\"row_heading level0 row0\" >year</th>\n",
              "      <td id=\"T_348e8_row0_col0\" class=\"data row0 col0\" >int64</td>\n",
              "      <td id=\"T_348e8_row0_col1\" class=\"data row0 col1\" >0.000000</td>\n",
              "      <td id=\"T_348e8_row0_col2\" class=\"data row0 col2\" >0</td>\n",
              "      <td id=\"T_348e8_row0_col3\" class=\"data row0 col3\" >2015.000000</td>\n",
              "      <td id=\"T_348e8_row0_col4\" class=\"data row0 col4\" >2022.000000</td>\n",
              "      <td id=\"T_348e8_row0_col5\" class=\"data row0 col5\" >Possible date-time colum: transform before modeling step.</td>\n",
              "    </tr>\n",
              "    <tr>\n",
              "      <th id=\"T_348e8_level0_row1\" class=\"row_heading level0 row1\" >gender</th>\n",
              "      <td id=\"T_348e8_row1_col0\" class=\"data row1 col0\" >object</td>\n",
              "      <td id=\"T_348e8_row1_col1\" class=\"data row1 col1\" >0.000000</td>\n",
              "      <td id=\"T_348e8_row1_col2\" class=\"data row1 col2\" >0</td>\n",
              "      <td id=\"T_348e8_row1_col3\" class=\"data row1 col3\" ></td>\n",
              "      <td id=\"T_348e8_row1_col4\" class=\"data row1 col4\" ></td>\n",
              "      <td id=\"T_348e8_row1_col5\" class=\"data row1 col5\" >1 rare categories: ['Other']. Group them into a single category or drop the categories.</td>\n",
              "    </tr>\n",
              "    <tr>\n",
              "      <th id=\"T_348e8_level0_row2\" class=\"row_heading level0 row2\" >age</th>\n",
              "      <td id=\"T_348e8_row2_col0\" class=\"data row2 col0\" >float64</td>\n",
              "      <td id=\"T_348e8_row2_col1\" class=\"data row2 col1\" >0.000000</td>\n",
              "      <td id=\"T_348e8_row2_col2\" class=\"data row2 col2\" >NA</td>\n",
              "      <td id=\"T_348e8_row2_col3\" class=\"data row2 col3\" >0.080000</td>\n",
              "      <td id=\"T_348e8_row2_col4\" class=\"data row2 col4\" >80.000000</td>\n",
              "      <td id=\"T_348e8_row2_col5\" class=\"data row2 col5\" >No issue</td>\n",
              "    </tr>\n",
              "    <tr>\n",
              "      <th id=\"T_348e8_level0_row3\" class=\"row_heading level0 row3\" >location</th>\n",
              "      <td id=\"T_348e8_row3_col0\" class=\"data row3 col0\" >object</td>\n",
              "      <td id=\"T_348e8_row3_col1\" class=\"data row3 col1\" >0.000000</td>\n",
              "      <td id=\"T_348e8_row3_col2\" class=\"data row3 col2\" >0</td>\n",
              "      <td id=\"T_348e8_row3_col3\" class=\"data row3 col3\" ></td>\n",
              "      <td id=\"T_348e8_row3_col4\" class=\"data row3 col4\" ></td>\n",
              "      <td id=\"T_348e8_row3_col5\" class=\"data row3 col5\" >3 rare categories: ['Virgin Islands', 'Wisconsin', 'Wyoming']. Group them into a single category or drop the categories.</td>\n",
              "    </tr>\n",
              "    <tr>\n",
              "      <th id=\"T_348e8_level0_row4\" class=\"row_heading level0 row4\" >race:AfricanAmerican</th>\n",
              "      <td id=\"T_348e8_row4_col0\" class=\"data row4 col0\" >int64</td>\n",
              "      <td id=\"T_348e8_row4_col1\" class=\"data row4 col1\" >0.000000</td>\n",
              "      <td id=\"T_348e8_row4_col2\" class=\"data row4 col2\" >0</td>\n",
              "      <td id=\"T_348e8_row4_col3\" class=\"data row4 col3\" >0.000000</td>\n",
              "      <td id=\"T_348e8_row4_col4\" class=\"data row4 col4\" >1.000000</td>\n",
              "      <td id=\"T_348e8_row4_col5\" class=\"data row4 col5\" >No issue</td>\n",
              "    </tr>\n",
              "    <tr>\n",
              "      <th id=\"T_348e8_level0_row5\" class=\"row_heading level0 row5\" >race:Asian</th>\n",
              "      <td id=\"T_348e8_row5_col0\" class=\"data row5 col0\" >int64</td>\n",
              "      <td id=\"T_348e8_row5_col1\" class=\"data row5 col1\" >0.000000</td>\n",
              "      <td id=\"T_348e8_row5_col2\" class=\"data row5 col2\" >0</td>\n",
              "      <td id=\"T_348e8_row5_col3\" class=\"data row5 col3\" >0.000000</td>\n",
              "      <td id=\"T_348e8_row5_col4\" class=\"data row5 col4\" >1.000000</td>\n",
              "      <td id=\"T_348e8_row5_col5\" class=\"data row5 col5\" >No issue</td>\n",
              "    </tr>\n",
              "    <tr>\n",
              "      <th id=\"T_348e8_level0_row6\" class=\"row_heading level0 row6\" >race:Caucasian</th>\n",
              "      <td id=\"T_348e8_row6_col0\" class=\"data row6 col0\" >int64</td>\n",
              "      <td id=\"T_348e8_row6_col1\" class=\"data row6 col1\" >0.000000</td>\n",
              "      <td id=\"T_348e8_row6_col2\" class=\"data row6 col2\" >0</td>\n",
              "      <td id=\"T_348e8_row6_col3\" class=\"data row6 col3\" >0.000000</td>\n",
              "      <td id=\"T_348e8_row6_col4\" class=\"data row6 col4\" >1.000000</td>\n",
              "      <td id=\"T_348e8_row6_col5\" class=\"data row6 col5\" >No issue</td>\n",
              "    </tr>\n",
              "    <tr>\n",
              "      <th id=\"T_348e8_level0_row7\" class=\"row_heading level0 row7\" >race:Hispanic</th>\n",
              "      <td id=\"T_348e8_row7_col0\" class=\"data row7 col0\" >int64</td>\n",
              "      <td id=\"T_348e8_row7_col1\" class=\"data row7 col1\" >0.000000</td>\n",
              "      <td id=\"T_348e8_row7_col2\" class=\"data row7 col2\" >0</td>\n",
              "      <td id=\"T_348e8_row7_col3\" class=\"data row7 col3\" >0.000000</td>\n",
              "      <td id=\"T_348e8_row7_col4\" class=\"data row7 col4\" >1.000000</td>\n",
              "      <td id=\"T_348e8_row7_col5\" class=\"data row7 col5\" >No issue</td>\n",
              "    </tr>\n",
              "    <tr>\n",
              "      <th id=\"T_348e8_level0_row8\" class=\"row_heading level0 row8\" >race:Other</th>\n",
              "      <td id=\"T_348e8_row8_col0\" class=\"data row8 col0\" >int64</td>\n",
              "      <td id=\"T_348e8_row8_col1\" class=\"data row8 col1\" >0.000000</td>\n",
              "      <td id=\"T_348e8_row8_col2\" class=\"data row8 col2\" >0</td>\n",
              "      <td id=\"T_348e8_row8_col3\" class=\"data row8 col3\" >0.000000</td>\n",
              "      <td id=\"T_348e8_row8_col4\" class=\"data row8 col4\" >1.000000</td>\n",
              "      <td id=\"T_348e8_row8_col5\" class=\"data row8 col5\" >No issue</td>\n",
              "    </tr>\n",
              "    <tr>\n",
              "      <th id=\"T_348e8_level0_row9\" class=\"row_heading level0 row9\" >hypertension</th>\n",
              "      <td id=\"T_348e8_row9_col0\" class=\"data row9 col0\" >int64</td>\n",
              "      <td id=\"T_348e8_row9_col1\" class=\"data row9 col1\" >0.000000</td>\n",
              "      <td id=\"T_348e8_row9_col2\" class=\"data row9 col2\" >0</td>\n",
              "      <td id=\"T_348e8_row9_col3\" class=\"data row9 col3\" >0.000000</td>\n",
              "      <td id=\"T_348e8_row9_col4\" class=\"data row9 col4\" >1.000000</td>\n",
              "      <td id=\"T_348e8_row9_col5\" class=\"data row9 col5\" >No issue</td>\n",
              "    </tr>\n",
              "    <tr>\n",
              "      <th id=\"T_348e8_level0_row10\" class=\"row_heading level0 row10\" >heart_disease</th>\n",
              "      <td id=\"T_348e8_row10_col0\" class=\"data row10 col0\" >int64</td>\n",
              "      <td id=\"T_348e8_row10_col1\" class=\"data row10 col1\" >0.000000</td>\n",
              "      <td id=\"T_348e8_row10_col2\" class=\"data row10 col2\" >0</td>\n",
              "      <td id=\"T_348e8_row10_col3\" class=\"data row10 col3\" >0.000000</td>\n",
              "      <td id=\"T_348e8_row10_col4\" class=\"data row10 col4\" >1.000000</td>\n",
              "      <td id=\"T_348e8_row10_col5\" class=\"data row10 col5\" >No issue</td>\n",
              "    </tr>\n",
              "    <tr>\n",
              "      <th id=\"T_348e8_level0_row11\" class=\"row_heading level0 row11\" >smoking_history</th>\n",
              "      <td id=\"T_348e8_row11_col0\" class=\"data row11 col0\" >object</td>\n",
              "      <td id=\"T_348e8_row11_col1\" class=\"data row11 col1\" >0.000000</td>\n",
              "      <td id=\"T_348e8_row11_col2\" class=\"data row11 col2\" >0</td>\n",
              "      <td id=\"T_348e8_row11_col3\" class=\"data row11 col3\" ></td>\n",
              "      <td id=\"T_348e8_row11_col4\" class=\"data row11 col4\" ></td>\n",
              "      <td id=\"T_348e8_row11_col5\" class=\"data row11 col5\" >No issue</td>\n",
              "    </tr>\n",
              "    <tr>\n",
              "      <th id=\"T_348e8_level0_row12\" class=\"row_heading level0 row12\" >bmi</th>\n",
              "      <td id=\"T_348e8_row12_col0\" class=\"data row12 col0\" >float64</td>\n",
              "      <td id=\"T_348e8_row12_col1\" class=\"data row12 col1\" >0.000000</td>\n",
              "      <td id=\"T_348e8_row12_col2\" class=\"data row12 col2\" >NA</td>\n",
              "      <td id=\"T_348e8_row12_col3\" class=\"data row12 col3\" >10.010000</td>\n",
              "      <td id=\"T_348e8_row12_col4\" class=\"data row12 col4\" >95.690000</td>\n",
              "      <td id=\"T_348e8_row12_col5\" class=\"data row12 col5\" >Column has 7086 outliers greater than upper bound (38.50) or lower than lower bound(14.71). Cap them or remove them.</td>\n",
              "    </tr>\n",
              "    <tr>\n",
              "      <th id=\"T_348e8_level0_row13\" class=\"row_heading level0 row13\" >hbA1c_level</th>\n",
              "      <td id=\"T_348e8_row13_col0\" class=\"data row13 col0\" >float64</td>\n",
              "      <td id=\"T_348e8_row13_col1\" class=\"data row13 col1\" >0.000000</td>\n",
              "      <td id=\"T_348e8_row13_col2\" class=\"data row13 col2\" >NA</td>\n",
              "      <td id=\"T_348e8_row13_col3\" class=\"data row13 col3\" >3.500000</td>\n",
              "      <td id=\"T_348e8_row13_col4\" class=\"data row13 col4\" >9.000000</td>\n",
              "      <td id=\"T_348e8_row13_col5\" class=\"data row13 col5\" >Column has 1315 outliers greater than upper bound (8.30) or lower than lower bound(2.70). Cap them or remove them.</td>\n",
              "    </tr>\n",
              "    <tr>\n",
              "      <th id=\"T_348e8_level0_row14\" class=\"row_heading level0 row14\" >blood_glucose_level</th>\n",
              "      <td id=\"T_348e8_row14_col0\" class=\"data row14 col0\" >int64</td>\n",
              "      <td id=\"T_348e8_row14_col1\" class=\"data row14 col1\" >0.000000</td>\n",
              "      <td id=\"T_348e8_row14_col2\" class=\"data row14 col2\" >0</td>\n",
              "      <td id=\"T_348e8_row14_col3\" class=\"data row14 col3\" >80.000000</td>\n",
              "      <td id=\"T_348e8_row14_col4\" class=\"data row14 col4\" >300.000000</td>\n",
              "      <td id=\"T_348e8_row14_col5\" class=\"data row14 col5\" >Column has 2038 outliers greater than upper bound (247.50) or lower than lower bound(11.50). Cap them or remove them.</td>\n",
              "    </tr>\n",
              "    <tr>\n",
              "      <th id=\"T_348e8_level0_row15\" class=\"row_heading level0 row15\" >diabetes</th>\n",
              "      <td id=\"T_348e8_row15_col0\" class=\"data row15 col0\" >int64</td>\n",
              "      <td id=\"T_348e8_row15_col1\" class=\"data row15 col1\" >0.000000</td>\n",
              "      <td id=\"T_348e8_row15_col2\" class=\"data row15 col2\" >0</td>\n",
              "      <td id=\"T_348e8_row15_col3\" class=\"data row15 col3\" >0.000000</td>\n",
              "      <td id=\"T_348e8_row15_col4\" class=\"data row15 col4\" >1.000000</td>\n",
              "      <td id=\"T_348e8_row15_col5\" class=\"data row15 col5\" >Target column. Appears to have Imbalanced classes. Try balancing classes.</td>\n",
              "    </tr>\n",
              "  </tbody>\n",
              "</table>\n"
            ]
          },
          "metadata": {}
        },
        {
          "output_type": "stream",
          "name": "stdout",
          "text": [
            "Total Number of Scatter Plots = 6\n",
            "Could not draw some Time Series plots. 'NoneType' object has no attribute 'suptitle'\n",
            "All Plots done\n",
            "Time to run AutoViz = 44 seconds \n",
            "\n",
            " ###################### AUTO VISUALIZATION Completed ########################\n"
          ]
        }
      ]
    },
    {
      "cell_type": "markdown",
      "source": [
        "# MODEL"
      ],
      "metadata": {
        "id": "_6X0gjf6iX09"
      }
    },
    {
      "cell_type": "code",
      "source": [
        "# Perform Stratified sampling for imbalanced data.\n",
        "# Split the data into features and target variable\n",
        "X = data.loc[:, data.columns != 'diabetes']\n",
        "y = data['diabetes']\n",
        "\n",
        "X_train, X_test, y_train, y_test = train_test_split(X, y, stratify=y, test_size=0.3)\n",
        "\n",
        "scaler = StandardScaler()\n",
        "X_train = scaler.fit_transform(X_train)\n",
        "X_test= scaler.transform(X_test)"
      ],
      "metadata": {
        "id": "Z4KJnooTfNhO"
      },
      "execution_count": 135,
      "outputs": []
    },
    {
      "cell_type": "code",
      "source": [
        "# Build basic Logistic Regresesion ML model to set baseline\n",
        "\n",
        "with mlflow.start_run():\n",
        "    base_model = LogisticRegression()\n",
        "    base_model.fit(X_train, y_train)\n",
        "\n",
        "    y_pred = base_model.predict(X_test)\n",
        "    mlflow.log_metric(\"accuracy\", accuracy_score(y_test, y_pred))\n",
        "    mlflow.log_metric(\"recall\", recall_score(y_test, y_pred))\n",
        "    mlflow.log_metric(\"F1 score\", f1_score(y_test, y_pred))\n",
        "\n",
        "    mlflow.sklearn.log_model(base_model, \"base-model\")\n",
        "\n",
        "print(\"Accuracy Score Logistic Regression:\", accuracy_score(y_test, y_pred))\n",
        "print(\"Confusion matrix\", confusion_matrix(y_test, y_pred))\n",
        "print(\"Recall\", recall_score(y_test, y_pred))"
      ],
      "metadata": {
        "colab": {
          "base_uri": "https://localhost:8080/"
        },
        "id": "uw9ajgY_3fs-",
        "outputId": "c45d96c5-acd6-48d1-d82c-0cbfdc3f1bbc"
      },
      "execution_count": 136,
      "outputs": [
        {
          "output_type": "stream",
          "name": "stdout",
          "text": [
            "Accuracy Score Logistic Regression: 0.959051724137931\n",
            "Confusion matrix [[26897   249]\n",
            " [  967  1583]]\n",
            "Recall 0.6207843137254901\n"
          ]
        }
      ]
    },
    {
      "cell_type": "code",
      "source": [
        "# SVM model\n",
        "\n",
        "with mlflow.start_run():\n",
        "    svm_clf = svm.SVC()\n",
        "    svm_clf.fit(X_train, y_train)\n",
        "\n",
        "    svm_pred = svm_clf.predict(X_test)\n",
        "\n",
        "    mlflow.log_metric(\"accuracy\", accuracy_score(y_test, svm_pred))\n",
        "    mlflow.log_metric(\"recall\", recall_score(y_test,svm_pred))\n",
        "    mlflow.log_metric(\"f1_score\", f1_score(y_test, svm_pred))\n",
        "\n",
        "print(\"Accuracy Score:\", accuracy_score(y_test, svm_pred))\n",
        "print(\"Confusion Matrix:\", confusion_matrix(y_test, svm_pred))\n",
        "print(\"Recall: \", recall_score(y_test, svm_pred))\n",
        "print(\"f1 score: \", f1_score(y_test, svm_pred))"
      ],
      "metadata": {
        "colab": {
          "base_uri": "https://localhost:8080/"
        },
        "id": "YuAublgFEwJy",
        "outputId": "d6f7891d-a3e7-4058-dec2-03154f48ee12"
      },
      "execution_count": 137,
      "outputs": [
        {
          "output_type": "stream",
          "name": "stdout",
          "text": [
            "Accuracy Score: 0.9633957435344828\n",
            "Confusion Matrix: [[27108    38]\n",
            " [ 1049  1501]]\n",
            "Recall:  0.5886274509803922\n",
            "f1 score:  0.7341648324773783\n"
          ]
        }
      ]
    },
    {
      "cell_type": "code",
      "source": [
        "# XGBclassifier\n",
        "\n",
        "with mlflow.start_run():\n",
        "    XGB_model_1 = XGBClassifier()\n",
        "    XGB_model_1.fit(X_train, y_train)\n",
        "\n",
        "    xgb_pred = XGB_model_1.predict(X_test)\n",
        "\n",
        "    mlflow.log_metric(\"accuracy\", accuracy_score(y_test, xgb_pred))\n",
        "    mlflow.log_metric(\"recall\", recall_score(y_test, xgb_pred))\n",
        "    mlflow.log_metric(\"f1_score\", f1_score(y_test, xgb_pred))\n",
        "\n",
        "print(\"Accuracy Score:\", accuracy_score(y_test, xgb_pred))\n",
        "print(\"Confusion Matrix\", confusion_matrix(y_test, xgb_pred))\n",
        "print(\"Recall: \", recall_score(y_test, xgb_pred)) # recall can be improved.\n",
        "print(\"f1 score\", f1_score(y_test, xgb_pred, average='binary'))"
      ],
      "metadata": {
        "id": "Nr2OgoKDUmyj",
        "colab": {
          "base_uri": "https://localhost:8080/"
        },
        "outputId": "a2d1e500-e291-41d0-aeee-f0b97b46cef0"
      },
      "execution_count": 138,
      "outputs": [
        {
          "output_type": "stream",
          "name": "stdout",
          "text": [
            "Accuracy Score: 0.9706021012931034\n",
            "Confusion Matrix [[27058    88]\n",
            " [  785  1765]]\n",
            "Recall:  0.692156862745098\n",
            "f1 score 0.801726095843743\n"
          ]
        }
      ]
    },
    {
      "cell_type": "code",
      "source": [
        "# Ensemble technique\n",
        "# Initialize models\n",
        "lr_1 = LogisticRegression()\n",
        "rf_2 = RandomForestClassifier()\n",
        "grad_3 = GradientBoostingClassifier()\n",
        "knn_4 = KNeighborsClassifier()\n",
        "\n",
        "# Create a VotingClassifier using the base models\n",
        "final_model = VotingClassifier(\n",
        "    estimators=[('lr', lr_1), ('rf', rf_2), ('grad', grad_3), ('knn', knn_4)], voting='hard')\n",
        "\n",
        "# Train the VotingClassifier on the training dataset and log metrics\n",
        "with mlflow.start_run():\n",
        "    # Fit the model\n",
        "    final_model.fit(X_train, y_train)\n",
        "\n",
        "    # Make predictions on the test dataset\n",
        "    pred_final = final_model.predict(X_test)\n",
        "\n",
        "    # Log performance metrics with MLflow\n",
        "    mlflow.log_metric(\"accuracy\", accuracy_score(y_test, pred_final))\n",
        "    mlflow.log_metric(\"recall\", recall_score(y_test, pred_final))\n",
        "    mlflow.log_metric(\"f1_score\", f1_score(y_test, pred_final))\n",
        "\n",
        "# Print performance metrics\n",
        "print(\"Accuracy Score:\", accuracy_score(y_test, pred_final))\n",
        "print(\"Confusion Matrix\", confusion_matrix(y_test, pred_final))\n",
        "print(\"Recall:\", recall_score(y_test, pred_final))\n",
        "print(\"F1 score:\", f1_score(y_test, pred_final))\n"
      ],
      "metadata": {
        "id": "GPGtcYHRUmvd",
        "colab": {
          "base_uri": "https://localhost:8080/"
        },
        "outputId": "f2b27d1f-3d2b-4ef6-eccc-96c92ab24326"
      },
      "execution_count": 139,
      "outputs": [
        {
          "output_type": "stream",
          "name": "stdout",
          "text": [
            "Accuracy Score: 0.9669989224137931\n",
            "Confusion Matrix [[27113    33]\n",
            " [  947  1603]]\n",
            "Recall: 0.6286274509803922\n",
            "F1 score: 0.7658862876254182\n"
          ]
        }
      ]
    },
    {
      "cell_type": "code",
      "source": [
        "# Compare results in MLFLOW dashboard\n",
        "# Signup here https://ngrok.com/\n",
        "# Go to your profile and copy the AUTH-TOKEN\n",
        "\n",
        "ngrok.kill()\n",
        "ngrok_token = 'YOUR NGROK AUTH-TOKEN'\n",
        "ngrok.set_auth_token(ngrok_token)\n",
        "ngrok_tunnel = ngrok.connect(5000)\n",
        "print(ngrok_tunnel)"
      ],
      "metadata": {
        "id": "ENszPoM7-ZQG"
      },
      "execution_count": null,
      "outputs": []
    },
    {
      "cell_type": "code",
      "source": [
        "!mlflow ui"
      ],
      "metadata": {
        "id": "W9Jbpfjd-xlU"
      },
      "execution_count": null,
      "outputs": []
    },
    {
      "cell_type": "code",
      "source": [
        "h2o.init()\n",
        "\n",
        "# Load data\n",
        "data = h2o.import_file('diabetes_dataset.csv')\n",
        "train, test = data.split_frame(ratios=[.8], seed=1234)\n",
        "\n",
        "# Set the predictor and response columns\n",
        "x = train.columns\n",
        "y = 'diabetes'\n",
        "x.remove(y)\n",
        "\n",
        "# Run AutoML for 20 base models (limited for demo purposes)\n",
        "aml = H2OAutoML(max_models=10, seed=1)\n",
        "aml.train(x=x, y=y, training_frame=train)\n",
        "\n",
        "# View the AutoML Leaderboard\n",
        "lb = aml.leaderboard\n",
        "print(lb)\n",
        "\n",
        "# Predict on test set\n",
        "preds = aml.predict(test)"
      ],
      "metadata": {
        "id": "kpTuB9x7fc5l"
      },
      "execution_count": null,
      "outputs": []
    },
    {
      "cell_type": "markdown",
      "source": [
        "# Conclusion\n",
        "\n",
        "XGBoost, Ensemble techniques and Auto-ML tools have similar performance."
      ],
      "metadata": {
        "id": "MUdzWtUy5CuD"
      }
    }
  ]
}